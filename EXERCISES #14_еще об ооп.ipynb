{
 "cells": [
  {
   "cell_type": "code",
   "execution_count": 1,
   "metadata": {},
   "outputs": [
    {
     "name": "stdout",
     "output_type": "stream",
     "text": [
      "<class '__main__.Square'>\n"
     ]
    }
   ],
   "source": [
    "class Square:\n",
    "    pass\n",
    "\n",
    "print(Square)"
   ]
  },
  {
   "cell_type": "code",
   "execution_count": 4,
   "metadata": {},
   "outputs": [
    {
     "name": "stdout",
     "output_type": "stream",
     "text": [
      "[(10, 24), (20, 40), (100, 200)]\n"
     ]
    }
   ],
   "source": [
    "class Rectangle():\n",
    "    recs = [] # переменная класса \n",
    "    \n",
    "    def __init__(self, w, l):\n",
    "        self.weight = w # переменная экземпляра класса \n",
    "        self.len = l # переменная экземпляра класса \n",
    "        self.recs.append((self.weight, self.len))\n",
    "        \n",
    "    def print_size(self):\n",
    "        print('''{} на {}'''.format(self.weight, self.len))\n",
    "        \n",
    "        \n",
    "r1 = Rectangle(10, 24)\n",
    "r2 = Rectangle(20, 40)\n",
    "r3 = Rectangle(100, 200)\n",
    "\n",
    "print(Rectangle.recs)"
   ]
  },
  {
   "cell_type": "code",
   "execution_count": 8,
   "metadata": {},
   "outputs": [
    {
     "name": "stdout",
     "output_type": "stream",
     "text": [
      "<__main__.Lion object at 0x00000200C7AC6898>\n"
     ]
    }
   ],
   "source": [
    "class Lion:\n",
    "    def __init__(self, name):\n",
    "        self.name = name\n",
    "        \n",
    "lion = Lion(\"Dilbert\")\n",
    "print(lion)"
   ]
  },
  {
   "cell_type": "code",
   "execution_count": 6,
   "metadata": {},
   "outputs": [
    {
     "name": "stdout",
     "output_type": "stream",
     "text": [
      "Dilbert\n"
     ]
    }
   ],
   "source": [
    "class Lion:\n",
    "    def __init__(self, name):\n",
    "        self.name = name\n",
    "        \n",
    "    def __repr__(self): # переопределение метода __repr__, чтобы он выводил тмя обьекта\n",
    "        return self.name\n",
    "        \n",
    "lion = Lion(\"Dilbert\")\n",
    "print(lion)"
   ]
  },
  {
   "cell_type": "code",
   "execution_count": 9,
   "metadata": {},
   "outputs": [
    {
     "name": "stdout",
     "output_type": "stream",
     "text": [
      "10\n"
     ]
    }
   ],
   "source": [
    "class AlwaysPositive:\n",
    "    def __init__(self, number):\n",
    "        self.n = number\n",
    "        \n",
    "    def __add__(self, other):\n",
    "        return abs(self.n + other.n)\n",
    "    \n",
    "x = AlwaysPositive(-20)\n",
    "y = AlwaysPositive(10)\n",
    "\n",
    "print(x + y)"
   ]
  },
  {
   "cell_type": "code",
   "execution_count": 3,
   "metadata": {},
   "outputs": [
    {
     "name": "stdout",
     "output_type": "stream",
     "text": [
      "True\n",
      "False\n"
     ]
    }
   ],
   "source": [
    "class Person:\n",
    "    def __init__(self):\n",
    "        self.name = 'bob'\n",
    "        \n",
    "bob = Person()\n",
    "same_bob = bob\n",
    "print(bob is same_bob) # возвращакт true так как обе переменные указывают на один и тот же обьект Person\n",
    "\n",
    "another_bob = Person()\n",
    "print(bob is another_bob) # возвращакт false так как обе переменные указывают на разные обьекты  Person"
   ]
  },
  {
   "cell_type": "code",
   "execution_count": 5,
   "metadata": {},
   "outputs": [
    {
     "name": "stdout",
     "output_type": "stream",
     "text": [
      "x не равно None\n",
      "x равно None\n"
     ]
    }
   ],
   "source": [
    "'''  еще пример использования ключевого слова is '''\n",
    "x = 10\n",
    "if x is None:\n",
    "    print('x равно None:( ')\n",
    "else: \n",
    "    print('x не равно None')\n",
    "    \n",
    "    \n",
    "x = None\n",
    "if x is None:\n",
    "    print('x равно None')\n",
    "else:\n",
    "    print('x равно None :(')"
   ]
  },
  {
   "cell_type": "code",
   "execution_count": 16,
   "metadata": {},
   "outputs": [
    {
     "name": "stdout",
     "output_type": "stream",
     "text": [
      "16\n",
      "32\n",
      "[4, 8]\n"
     ]
    }
   ],
   "source": [
    "''' Добавьте переменную square_list в класс Square так, чтобы всякий раз, когда вы создаете новый обьект Square, \n",
    "    он добавлялся в список\n",
    "'''\n",
    "class Square(): \n",
    "    square_list =[]\n",
    "    def __init__(self, s):\n",
    "        self.side = s\n",
    "        self.square_list.append(self.side)\n",
    "        \n",
    "    def calculate_perimeter(self):\n",
    "        return self.side * 4\n",
    "    \n",
    "sq = Square(4)\n",
    "print(sq.calculate_perimeter())\n",
    "\n",
    "sq1 = Square(8)\n",
    "print(sq1.calculate_perimeter())\n",
    "\n",
    "print(Square.square_list)"
   ]
  },
  {
   "cell_type": "code",
   "execution_count": 4,
   "metadata": {},
   "outputs": [
    {
     "name": "stdout",
     "output_type": "stream",
     "text": [
      "29 на 29 на 29 на 29\n",
      "116\n"
     ]
    }
   ],
   "source": [
    "''' Измените класс Square так, чтобы когда вы выводите обьект Square, выводилось сообщение с длинами всех четырех\n",
    "    сторон фигуры. Например, если вы создадите квадрат при помощи Square(29) и осуществите вывод, Python должен\n",
    "    вывести строку 29 на 29 на 29 на 29.\n",
    "'''\n",
    "class Square(): \n",
    "    square_list =[]\n",
    "    def __init__(self, s):\n",
    "        self.side = s\n",
    "        return print('''{} на {} на {} на {}'''.format(self.side, self.side, self.side, self.side))\n",
    "        \n",
    "    def calculate_perimeter(self):\n",
    "        return self.side * 4\n",
    "    \n",
    "    \n",
    "sq = Square(29)\n",
    "print(sq.calculate_perimeter())\n"
   ]
  },
  {
   "cell_type": "code",
   "execution_count": 5,
   "metadata": {},
   "outputs": [],
   "source": [
    "''' Напишите функцию, которая принимает два обьекта в качестве параметров и возвращает True, если они являются \n",
    "    одним и тем же обьектом, и False в противном случае.\n",
    "'''\n",
    "class Parametr():\n",
    "    def __init__(self, par):\n",
    "        self.par = par\n",
    "    \n",
    "def bull_par(p_one, p_two):\n",
    "    return print(p_one is p_two)\n",
    "        "
   ]
  },
  {
   "cell_type": "code",
   "execution_count": 11,
   "metadata": {},
   "outputs": [
    {
     "name": "stdout",
     "output_type": "stream",
     "text": [
      "True\n"
     ]
    }
   ],
   "source": [
    "a = Parametr('one')\n",
    "b = Parametr('two')\n",
    "c = a\n",
    "\n",
    "bull_par(a, c)"
   ]
  },
  {
   "cell_type": "code",
   "execution_count": null,
   "metadata": {},
   "outputs": [],
   "source": []
  }
 ],
 "metadata": {
  "kernelspec": {
   "display_name": "Python 3",
   "language": "python",
   "name": "python3"
  },
  "language_info": {
   "codemirror_mode": {
    "name": "ipython",
    "version": 3
   },
   "file_extension": ".py",
   "mimetype": "text/x-python",
   "name": "python",
   "nbconvert_exporter": "python",
   "pygments_lexer": "ipython3",
   "version": "3.7.3"
  }
 },
 "nbformat": 4,
 "nbformat_minor": 2
}
