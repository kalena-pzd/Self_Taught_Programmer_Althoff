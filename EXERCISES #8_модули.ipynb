{
 "cells": [
  {
   "cell_type": "code",
   "execution_count": 2,
   "metadata": {},
   "outputs": [
    {
     "data": {
      "text/plain": [
       "8.0"
      ]
     },
     "execution_count": 2,
     "metadata": {},
     "output_type": "execute_result"
    }
   ],
   "source": [
    "import math\n",
    "math.pow(2,3) # функция из модуля math возвращает первое значение в степени второго значения"
   ]
  },
  {
   "cell_type": "code",
   "execution_count": 2,
   "metadata": {},
   "outputs": [
    {
     "data": {
      "text/plain": [
       "24"
      ]
     },
     "execution_count": 2,
     "metadata": {},
     "output_type": "execute_result"
    }
   ],
   "source": [
    "import random\n",
    "random.randint(0,100) # функция возвращает случайное число из указанного диапазона"
   ]
  },
  {
   "cell_type": "code",
   "execution_count": 1,
   "metadata": {},
   "outputs": [
    {
     "name": "stdout",
     "output_type": "stream",
     "text": [
      "18.857142857142858\n",
      "12\n",
      "33\n"
     ]
    }
   ],
   "source": [
    "import statistics\n",
    "nums = [1,5,33,12,46,33,2]\n",
    "print(statistics.mean(nums)) # функция подсчитывает среднее значение\n",
    "\n",
    "print(statistics.median(nums)) # медиана случайных чисел делит пополам распределение \n",
    "# -вероятность получить значение случайной величины справа от него равна вероятности получить значение слева от него \n",
    "\n",
    "print(statistics.mode(nums)) # Мо́да — значение во множестве наблюдений, которое встречается наиболее часто. \n",
    "# (Мода = типичность.) Иногда в совокупности встречается более чем одна мода (например: 6, 2, 6, 6, 8, 9, 9, 9, 0; мода — 6 и 9)\n",
    "# В этом случае можно сказать, что совокупность мультимодальна. \n",
    "# Из структурных средних величин только мода обладает таким уникальным свойством. \n",
    "# Как правило, мультимодальность указывает на то, что набор данных не подчиняется нормальному распределению."
   ]
  },
  {
   "cell_type": "code",
   "execution_count": 12,
   "metadata": {},
   "outputs": [
    {
     "name": "stdout",
     "output_type": "stream",
     "text": [
      "Help on function mode in module statistics:\n",
      "\n",
      "mode(data)\n",
      "    Return the most common data point from discrete or nominal data.\n",
      "    \n",
      "    ``mode`` assumes discrete data, and returns a single value. This is the\n",
      "    standard treatment of the mode as commonly taught in schools:\n",
      "    \n",
      "    >>> mode([1, 1, 2, 3, 3, 3, 3, 4])\n",
      "    3\n",
      "    \n",
      "    This also works with nominal (non-numeric) data:\n",
      "    \n",
      "    >>> mode([\"red\", \"blue\", \"blue\", \"red\", \"green\", \"red\", \"red\"])\n",
      "    'red'\n",
      "    \n",
      "    If there is not exactly one most common value, ``mode`` will raise\n",
      "    StatisticsError.\n",
      "\n"
     ]
    }
   ],
   "source": [
    "help(statistics.mode)\n"
   ]
  },
  {
   "cell_type": "code",
   "execution_count": 1,
   "metadata": {},
   "outputs": [
    {
     "name": "stdout",
     "output_type": "stream",
     "text": [
      "True\n",
      "False\n"
     ]
    }
   ],
   "source": [
    "import keyword\n",
    "\n",
    "print(keyword.iskeyword('for')) # модуль позволяет проверить, является ли строка ключевым словом в Python\n",
    "print(keyword.iskeyword('football'))"
   ]
  },
  {
   "cell_type": "code",
   "execution_count": 2,
   "metadata": {},
   "outputs": [
    {
     "data": {
      "text/plain": [
       "329.8095238095238"
      ]
     },
     "execution_count": 2,
     "metadata": {},
     "output_type": "execute_result"
    }
   ],
   "source": [
    "statistics.variance(nums)"
   ]
  },
  {
   "cell_type": "code",
   "execution_count": 3,
   "metadata": {},
   "outputs": [
    {
     "name": "stdout",
     "output_type": "stream",
     "text": [
      "Help on function variance in module statistics:\n",
      "\n",
      "variance(data, xbar=None)\n",
      "    Return the sample variance of data.\n",
      "    \n",
      "    data should be an iterable of Real-valued numbers, with at least two\n",
      "    values. The optional argument xbar, if given, should be the mean of\n",
      "    the data. If it is missing or None, the mean is automatically calculated.\n",
      "    \n",
      "    Use this function when your data is a sample from a population. To\n",
      "    calculate the variance from the entire population, see ``pvariance``.\n",
      "    \n",
      "    Examples:\n",
      "    \n",
      "    >>> data = [2.75, 1.75, 1.25, 0.25, 0.5, 1.25, 3.5]\n",
      "    >>> variance(data)\n",
      "    1.3720238095238095\n",
      "    \n",
      "    If you have already calculated the mean of your data, you can pass it as\n",
      "    the optional second argument ``xbar`` to avoid recalculating it:\n",
      "    \n",
      "    >>> m = mean(data)\n",
      "    >>> variance(data, m)\n",
      "    1.3720238095238095\n",
      "    \n",
      "    This function does not check that ``xbar`` is actually the mean of\n",
      "    ``data``. Giving arbitrary values for ``xbar`` may lead to invalid or\n",
      "    impossible results.\n",
      "    \n",
      "    Decimals and Fractions are supported:\n",
      "    \n",
      "    >>> from decimal import Decimal as D\n",
      "    >>> variance([D(\"27.5\"), D(\"30.25\"), D(\"30.25\"), D(\"34.5\"), D(\"41.75\")])\n",
      "    Decimal('31.01875')\n",
      "    \n",
      "    >>> from fractions import Fraction as F\n",
      "    >>> variance([F(1, 6), F(1, 2), F(5, 3)])\n",
      "    Fraction(67, 108)\n",
      "\n"
     ]
    }
   ],
   "source": [
    "help(statistics.variance)"
   ]
  }
 ],
 "metadata": {
  "kernelspec": {
   "display_name": "Python 3",
   "language": "python",
   "name": "python3"
  },
  "language_info": {
   "codemirror_mode": {
    "name": "ipython",
    "version": 3
   },
   "file_extension": ".py",
   "mimetype": "text/x-python",
   "name": "python",
   "nbconvert_exporter": "python",
   "pygments_lexer": "ipython3",
   "version": "3.7.3"
  }
 },
 "nbformat": 4,
 "nbformat_minor": 2
}
