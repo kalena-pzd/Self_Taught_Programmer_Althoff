{
 "cells": [
  {
   "cell_type": "code",
   "execution_count": 13,
   "metadata": {},
   "outputs": [
    {
     "name": "stdout",
     "output_type": "stream",
     "text": [
      "z less than 5\n"
     ]
    }
   ],
   "source": [
    "y=1\n",
    "o=1\n",
    "p=1\n",
    "def f(y,o,p):\n",
    "    return y**2-o/4+p*2\n",
    "z = f(y,o,p)\n",
    "if z > 5:\n",
    "    print('z more than 5')\n",
    "else:\n",
    "    print('z less than 5')"
   ]
  },
  {
   "cell_type": "code",
   "execution_count": 14,
   "metadata": {},
   "outputs": [
    {
     "name": "stdout",
     "output_type": "stream",
     "text": [
      "None\n"
     ]
    }
   ],
   "source": [
    "def ff():\n",
    "    z = 1+1\n",
    "r = ff()\n",
    "print(r)"
   ]
  },
  {
   "cell_type": "code",
   "execution_count": 15,
   "metadata": {},
   "outputs": [
    {
     "data": {
      "text/plain": [
       "5"
      ]
     },
     "execution_count": 15,
     "metadata": {},
     "output_type": "execute_result"
    }
   ],
   "source": [
    "len('world')"
   ]
  },
  {
   "cell_type": "code",
   "execution_count": 16,
   "metadata": {},
   "outputs": [
    {
     "data": {
      "text/plain": [
       "'100'"
      ]
     },
     "execution_count": 16,
     "metadata": {},
     "output_type": "execute_result"
    }
   ],
   "source": [
    "str(100)"
   ]
  },
  {
   "cell_type": "code",
   "execution_count": 17,
   "metadata": {},
   "outputs": [
    {
     "data": {
      "text/plain": [
       "1"
      ]
     },
     "execution_count": 17,
     "metadata": {},
     "output_type": "execute_result"
    }
   ],
   "source": [
    "int('1')"
   ]
  },
  {
   "cell_type": "code",
   "execution_count": 18,
   "metadata": {},
   "outputs": [
    {
     "data": {
      "text/plain": [
       "100.0"
      ]
     },
     "execution_count": 18,
     "metadata": {},
     "output_type": "execute_result"
    }
   ],
   "source": [
    "float(100)"
   ]
  },
  {
   "cell_type": "code",
   "execution_count": 27,
   "metadata": {},
   "outputs": [
    {
     "data": {
      "text/plain": [
       "99.0"
      ]
     },
     "execution_count": 27,
     "metadata": {},
     "output_type": "execute_result"
    }
   ],
   "source": [
    "float(99)"
   ]
  },
  {
   "cell_type": "code",
   "execution_count": 28,
   "metadata": {},
   "outputs": [
    {
     "data": {
      "text/plain": [
       "16.4"
      ]
     },
     "execution_count": 28,
     "metadata": {},
     "output_type": "execute_result"
    }
   ],
   "source": [
    "float('16.4')"
   ]
  },
  {
   "cell_type": "code",
   "execution_count": 26,
   "metadata": {},
   "outputs": [
    {
     "data": {
      "text/plain": [
       "110"
      ]
     },
     "execution_count": 26,
     "metadata": {},
     "output_type": "execute_result"
    }
   ],
   "source": [
    "int('110')"
   ]
  },
  {
   "cell_type": "code",
   "execution_count": 23,
   "metadata": {},
   "outputs": [
    {
     "data": {
      "text/plain": [
       "20"
      ]
     },
     "execution_count": 23,
     "metadata": {},
     "output_type": "execute_result"
    }
   ],
   "source": [
    "int(20.54)"
   ]
  },
  {
   "cell_type": "code",
   "execution_count": 30,
   "metadata": {},
   "outputs": [
    {
     "name": "stdout",
     "output_type": "stream",
     "text": [
      "how old are you: 20\n",
      "you are baby-boy\n"
     ]
    }
   ],
   "source": [
    "age = input('how old are you: ')\n",
    "int_age = int(age)\n",
    "if int_age < 21:\n",
    "    print('you are baby-boy')\n",
    "else:\n",
    "    print('moe pochtenie')"
   ]
  },
  {
   "cell_type": "code",
   "execution_count": 12,
   "metadata": {},
   "outputs": [
    {
     "name": "stdout",
     "output_type": "stream",
     "text": [
      "enter the number: 2\n",
      "even\n",
      "enter the number: 2\n",
      "even\n",
      "enter the number: 1\n",
      "odd\n",
      "enter the number: 7\n",
      "odd\n"
     ]
    }
   ],
   "source": [
    "def even_odd():\n",
    "    n = input(\"enter the number: \")\n",
    "    n = int(n)\n",
    "    if n%2 == 0:\n",
    "        print('even')\n",
    "    else:\n",
    "        print('odd')\n",
    "even_odd()\n",
    "even_odd()\n",
    "even_odd()\n",
    "even_odd()"
   ]
  },
  {
   "cell_type": "code",
   "execution_count": 16,
   "metadata": {},
   "outputs": [
    {
     "name": "stdout",
     "output_type": "stream",
     "text": [
      "4\n",
      "256\n"
     ]
    }
   ],
   "source": [
    "def f(x=2):\n",
    "    return x**x\n",
    "print(f())\n",
    "print(f(4))"
   ]
  },
  {
   "cell_type": "code",
   "execution_count": 15,
   "metadata": {},
   "outputs": [
    {
     "name": "stdout",
     "output_type": "stream",
     "text": [
      "12\n"
     ]
    }
   ],
   "source": [
    "def add_it(x,y=10):\n",
    "    return x+y\n",
    "result = add_it(2)\n",
    "print(result)"
   ]
  },
  {
   "cell_type": "code",
   "execution_count": 19,
   "metadata": {},
   "outputs": [
    {
     "name": "stdout",
     "output_type": "stream",
     "text": [
      "1\n",
      "2\n",
      "3\n"
     ]
    }
   ],
   "source": [
    "x=1\n",
    "y=2\n",
    "z=3\n",
    "def f():\n",
    "    print(x)\n",
    "    print(y)\n",
    "    print(z)\n",
    "f()\n"
   ]
  },
  {
   "cell_type": "code",
   "execution_count": 8,
   "metadata": {},
   "outputs": [
    {
     "name": "stdout",
     "output_type": "stream",
     "text": [
      "1\n",
      "2\n",
      "3\n"
     ]
    }
   ],
   "source": [
    "def f():\n",
    "    x=1\n",
    "    y=2\n",
    "    z=3\n",
    "    print(x)\n",
    "    print(y)\n",
    "    print(z)\n",
    "f()"
   ]
  },
  {
   "cell_type": "code",
   "execution_count": 1,
   "metadata": {},
   "outputs": [
    {
     "name": "stdout",
     "output_type": "stream",
     "text": [
      "101\n"
     ]
    }
   ],
   "source": [
    "x=100\n",
    "def f():\n",
    "    global x\n",
    "    x+=1\n",
    "    print(x)\n",
    "f()"
   ]
  },
  {
   "cell_type": "code",
   "execution_count": 14,
   "metadata": {},
   "outputs": [
    {
     "name": "stdout",
     "output_type": "stream",
     "text": [
      "enter the number: 5\n",
      "enter another number: 5\n",
      "1.0\n",
      "it's okay\n"
     ]
    }
   ],
   "source": [
    "try:\n",
    "    a = input(\"enter the number: \")\n",
    "    b = input(\"enter another number: \")\n",
    "    a = int(a)\n",
    "    b = int(b)\n",
    "    print(a/b)\n",
    "except (ZeroDivisionError, ValueError):\n",
    "    print(\"mistake input\")\n",
    "else:\n",
    "    print(\"it's okay\")#выполняется, если except не было\n"
   ]
  },
  {
   "cell_type": "code",
   "execution_count": 8,
   "metadata": {},
   "outputs": [
    {
     "name": "stdout",
     "output_type": "stream",
     "text": [
      "3\n"
     ]
    }
   ],
   "source": [
    "def add(x,y):\n",
    "    \"\"\"\n",
    "    возвращает x+y.\n",
    "    :параметр x: целое число.\n",
    "    :параметр y: целое число.\n",
    "    :return: целочисленная сумма x+y.\n",
    "    \"\"\"\n",
    "    return x+y\n",
    "print(add(1,2))"
   ]
  },
  {
   "cell_type": "code",
   "execution_count": 19,
   "metadata": {},
   "outputs": [
    {
     "data": {
      "text/plain": [
       "4"
      ]
     },
     "execution_count": 19,
     "metadata": {},
     "output_type": "execute_result"
    }
   ],
   "source": [
    "def square(a):\n",
    "    \"\"\"\n",
    "    возвращает квадрат аргумента\n",
    "    \"\"\"\n",
    "    return a**2\n",
    "square(2)\n"
   ]
  },
  {
   "cell_type": "code",
   "execution_count": 20,
   "metadata": {},
   "outputs": [
    {
     "name": "stdout",
     "output_type": "stream",
     "text": [
      "enter the line: ув\n",
      "ув\n"
     ]
    }
   ],
   "source": [
    "def line():\n",
    "    \"\"\"\"\n",
    "    возвращает введенную строку\n",
    "    \"\"\"\n",
    "    x = input('enter the line: ')\n",
    "    print(x)\n",
    "line()"
   ]
  },
  {
   "cell_type": "code",
   "execution_count": 33,
   "metadata": {},
   "outputs": [],
   "source": [
    "def fff(a,b,c,d=1,e=2):\n",
    "    print(a,b,c,d,e)\n",
    "    "
   ]
  },
  {
   "cell_type": "code",
   "execution_count": 37,
   "metadata": {},
   "outputs": [
    {
     "name": "stdout",
     "output_type": "stream",
     "text": [
      "1 2 3 4 5\n",
      "None\n",
      "1 2 3 1 2\n",
      "None\n"
     ]
    }
   ],
   "source": [
    "print(fff(1,2,3,4,5))\n",
    "print(fff(1,2,3))"
   ]
  },
  {
   "cell_type": "code",
   "execution_count": 21,
   "metadata": {},
   "outputs": [
    {
     "name": "stdout",
     "output_type": "stream",
     "text": [
      "enter the number: 3\n",
      "1\n",
      "4\n"
     ]
    }
   ],
   "source": [
    "def f1():\n",
    "    \"\"\"\"\n",
    "    возвращает целочисленный остаток от деления \"\"\"\n",
    "    x=input('enter the number: ')\n",
    "    x=int(x)\n",
    "    return int(x/2)\n",
    "    \n",
    "y = f1()\n",
    "print(y)\n",
    "\n",
    "def f2():\n",
    "    \"\"\"\" принимает в качестве аргумента результат работы\n",
    "         функции f1 и возвращает аргумент умноженный на 4\"\"\"\n",
    "    global y\n",
    "    return y*4\n",
    "print(f2())   "
   ]
  },
  {
   "cell_type": "code",
   "execution_count": 23,
   "metadata": {},
   "outputs": [
    {
     "name": "stdout",
     "output_type": "stream",
     "text": [
      "enter: 34\n"
     ]
    },
    {
     "data": {
      "text/plain": [
       "34.0"
      ]
     },
     "execution_count": 23,
     "metadata": {},
     "output_type": "execute_result"
    }
   ],
   "source": [
    "def sf():\n",
    "    \"\"\"\"\n",
    "    преобразовывает строку в число с плавающей запятой\n",
    "    если результатом является ошибка, просит заново вести число\n",
    "    \"\"\"\n",
    "    a = input('enter: ')\n",
    "    try:\n",
    "        return float(a)\n",
    "    except ValueError:\n",
    "        print('enter the number')\n",
    "        \n",
    "\n",
    "sf()"
   ]
  },
  {
   "cell_type": "code",
   "execution_count": 3,
   "metadata": {
    "scrolled": true
   },
   "outputs": [
    {
     "name": "stdout",
     "output_type": "stream",
     "text": [
      "[['баста', 'кравц', 'злой дух', '25-17'], ['наутилус', 'кино', 'ария'], ['paul oakenfold', 'tiesto']]\n",
      "['баста', 'кравц', 'злой дух', '25-17']\n",
      "['баста', 'кравц', 'злой дух', '25-17', 'наше дело']\n",
      "[['баста', 'кравц', 'злой дух', '25-17', 'наше дело'], ['наутилус', 'кино', 'ария'], ['paul oakenfold', 'tiesto']]\n"
     ]
    }
   ],
   "source": [
    "lists = []\n",
    "rap = ['баста','кравц','злой дух','25-17']\n",
    "rock = ['наутилус','кино','ария']\n",
    "djs = ['paul oakenfold','tiesto']\n",
    "lists.append(rap)\n",
    "lists.append(rock)\n",
    "lists.append(djs)\n",
    "print(lists)\n",
    "\n",
    "rap = lists[0]\n",
    "print(rap)\n",
    "\n",
    "rap.append('наше дело')\n",
    "print(rap)\n",
    "print(lists)"
   ]
  },
  {
   "cell_type": "code",
   "execution_count": 4,
   "metadata": {},
   "outputs": [
    {
     "name": "stdout",
     "output_type": "stream",
     "text": [
      "[(54.196, 37.6182), (55.7522, 37.6155)]\n"
     ]
    }
   ],
   "source": [
    "locations = []\n",
    "tula = (54.1960,37.6182)\n",
    "moscow = (55.7522,37.6155)\n",
    "locations.append(tula)\n",
    "locations.append(moscow)\n",
    "print(locations)"
   ]
  },
  {
   "cell_type": "code",
   "execution_count": 5,
   "metadata": {},
   "outputs": [
    {
     "name": "stdout",
     "output_type": "stream",
     "text": [
      "enter your weight: 12\n",
      "enter your favorite color: black\n",
      "your weight is  12  and my weight is  123\n",
      "your favorite color is  black  and my favorite weight is  navy\n"
     ]
    }
   ],
   "source": [
    "mfm = ['mumiy troll','splin','kino']\n",
    "mlp = [(52.418017, 30.985368),(53.955300, 38.274143)]\n",
    "mpd = {'tall':176,'weight':123,'favorite color':'navy'}\n",
    "\n",
    "a = input('enter your weight: ')\n",
    "b = input('enter your favorite color: ')\n",
    "print('your weight is ',a,' and my weight is ', mpd['weight'])\n",
    "print('your favorite color is ',b,' and my favorite weight is ', mpd['favorite color'])"
   ]
  }
 ],
 "metadata": {
  "kernelspec": {
   "display_name": "Python 3",
   "language": "python",
   "name": "python3"
  },
  "language_info": {
   "codemirror_mode": {
    "name": "ipython",
    "version": 3
   },
   "file_extension": ".py",
   "mimetype": "text/x-python",
   "name": "python",
   "nbconvert_exporter": "python",
   "pygments_lexer": "ipython3",
   "version": "3.7.3"
  }
 },
 "nbformat": 4,
 "nbformat_minor": 2
}
