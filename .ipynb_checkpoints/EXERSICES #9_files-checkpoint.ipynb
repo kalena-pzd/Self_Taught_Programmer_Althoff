{
 "cells": [
  {
   "cell_type": "code",
   "execution_count": 1,
   "metadata": {},
   "outputs": [
    {
     "data": {
      "text/plain": [
       "'Users\\\\Asus\\\\Desktop\\\\pyton_scrypts\\\\exercises_9.txt'"
      ]
     },
     "execution_count": 1,
     "metadata": {},
     "output_type": "execute_result"
    }
   ],
   "source": [
    "import os \n",
    "os.path.join('Users','Asus','Desktop','pyton_scrypts','exercises_9.txt') #Users\\Asus\\Desktop\\pyton_scrypts\\exercises_9.txt\n",
    "# функция path принимает каждую папку из пути к файлу и выстраивает правильный путь к нему в зависимости от ОС\n"
   ]
  },
  {
   "cell_type": "code",
   "execution_count": 2,
   "metadata": {},
   "outputs": [],
   "source": [
    "st = open('st.txt','w') # открывает файл для записи - \"w\" удаляет содержимое, если файл существует, создает новый,  если нет\n",
    "# \"r\" - открывает файл только для чтения\n",
    "# \"w+\" - открывает файл для чтения и записи. Удаляет содержимое, если файл существует, создает новый,  если нет\n",
    "st.write('hello from python!') # метод выполняет запись в файл\n",
    "st.close() # метод выполняет закрытие файла"
   ]
  },
  {
   "cell_type": "code",
   "execution_count": 10,
   "metadata": {},
   "outputs": [],
   "source": [
    "with open('st.txt','w') as f: # в таком синтаксисе файл автоматически закроется после выполнения тела кода\n",
    "    f.write('next frase')"
   ]
  },
  {
   "cell_type": "code",
   "execution_count": 12,
   "metadata": {},
   "outputs": [
    {
     "name": "stdout",
     "output_type": "stream",
     "text": [
      "next frase\n"
     ]
    }
   ],
   "source": [
    "with open('st.txt','r') as f: # читает данные из файла\n",
    "    print(f.read()) # метод возвращает итерируемый обьект со всеми строками файла"
   ]
  },
  {
   "cell_type": "code",
   "execution_count": 13,
   "metadata": {},
   "outputs": [
    {
     "name": "stdout",
     "output_type": "stream",
     "text": [
      "['next frase']\n"
     ]
    }
   ],
   "source": [
    "my_list = list()\n",
    "with open('st.txt','r') as f:\n",
    "    my_list.append(f.read()) # сохраняет содержимое файла в списке, для дальнейшего использования\n",
    "print(my_list)"
   ]
  },
  {
   "cell_type": "code",
   "execution_count": 2,
   "metadata": {},
   "outputs": [],
   "source": [
    "import csv\n",
    "with open('st.csv','w',newline='') as f: # без newline записывает через строчку??\n",
    "    w = csv.writer(f, delimiter=',') # принимает файловый обьект f и разделитель между элементами\n",
    "    w.writerow(['one','two','three']) # метод принимает в качестве параметра список\n",
    "    w.writerow(['four','five','six']) # создает только одну строку, иначе нужно вызывать несколько раз\n",
    "    w.writerow(['four','five','six'])\n",
    "    "
   ]
  },
  {
   "cell_type": "code",
   "execution_count": 11,
   "metadata": {},
   "outputs": [
    {
     "name": "stdout",
     "output_type": "stream",
     "text": [
      "one_+_two_+_three\n",
      "four_+_five_+_six\n",
      "four_+_five_+_six\n"
     ]
    }
   ],
   "source": [
    "import csv\n",
    "with open('st.csv','r') as f: # читает данные из файла\n",
    "    r = csv.reader(f, delimiter=',') # метод возвращает итерируемый обьект \n",
    "    for row in r:\n",
    "        print('_+_'.join(row))\n",
    "    "
   ]
  },
  {
   "cell_type": "code",
   "execution_count": 9,
   "metadata": {},
   "outputs": [
    {
     "name": "stdout",
     "output_type": "stream",
     "text": [
      "Users\\Asus\\Desktop\\hello.txt\n"
     ]
    }
   ],
   "source": [
    "print(os.path.join('Users','Asus','Desktop','hello.txt'))"
   ]
  },
  {
   "cell_type": "code",
   "execution_count": 27,
   "metadata": {},
   "outputs": [
    {
     "name": "stdout",
     "output_type": "stream",
     "text": [
      "one two trip\n",
      "three four beep\n",
      "five six deep\n",
      "seven eight sleep\n"
     ]
    }
   ],
   "source": [
    "with open(\"c:\\\\Users\\\\Asus\\\\Desktop\\\\hello.txt\",'r') as v:\n",
    "    print(v.read())"
   ]
  },
  {
   "cell_type": "code",
   "execution_count": 26,
   "metadata": {},
   "outputs": [
    {
     "name": "stdout",
     "output_type": "stream",
     "text": [
      "11111111111111111111111\n"
     ]
    }
   ],
   "source": [
    "with open(\"untitled.txt\",'r') as v:\n",
    "    print(v.read())"
   ]
  },
  {
   "cell_type": "code",
   "execution_count": 36,
   "metadata": {},
   "outputs": [
    {
     "name": "stdout",
     "output_type": "stream",
     "text": [
      "what you favorite color?: ddddd\n"
     ]
    }
   ],
   "source": [
    "import os\n",
    "ans = input('what you favorite color?: ')\n",
    "with open('c:\\\\Users\\\\Asus\\\\Desktop\\\\pyton_scrypts\\\\Self_Taught_Programmer_Althoff\\\\Глава 09\\\\favorite_color.txt','w') as vv:\n",
    "    vv.write(ans)\n"
   ]
  },
  {
   "cell_type": "code",
   "execution_count": 51,
   "metadata": {},
   "outputs": [],
   "source": [
    "import csv\n",
    "l = [['star wars','the terminator','II'],['fool','mathilda','beast'],['MIB','I-robot','evolution']]\n",
    "with open('c:\\\\Users\\\\Asus\\\\Desktop\\\\pyton_scrypts\\\\Self_Taught_Programmer_Althoff\\\\Глава 09\\\\film.csv','w',newline='') as f:\n",
    "    f1 = csv.writer(f, delimiter=',') # принимает файловый обьект f и разделитель между элементами\n",
    "    f1.writerow(l[0])\n",
    "    f1.writerow(l[1])\n",
    "    f1.writerow(l[2])\n",
    "\n"
   ]
  }
 ],
 "metadata": {
  "kernelspec": {
   "display_name": "Python 3",
   "language": "python",
   "name": "python3"
  },
  "language_info": {
   "codemirror_mode": {
    "name": "ipython",
    "version": 3
   },
   "file_extension": ".py",
   "mimetype": "text/x-python",
   "name": "python",
   "nbconvert_exporter": "python",
   "pygments_lexer": "ipython3",
   "version": "3.7.3"
  }
 },
 "nbformat": 4,
 "nbformat_minor": 2
}
