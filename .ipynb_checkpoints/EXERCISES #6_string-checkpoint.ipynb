{
 "cells": [
  {
   "cell_type": "code",
   "execution_count": 2,
   "metadata": {},
   "outputs": [
    {
     "data": {
      "text/plain": [
       "' string one\\n    string two\\n    string three\\n'"
      ]
     },
     "execution_count": 2,
     "metadata": {},
     "output_type": "execute_result"
    }
   ],
   "source": [
    "\"\"\" string one\n",
    "    string two\n",
    "    string three\n",
    "\"\"\""
   ]
  },
  {
   "cell_type": "code",
   "execution_count": 1,
   "metadata": {},
   "outputs": [
    {
     "ename": "SyntaxError",
     "evalue": "EOL while scanning string literal (<ipython-input-1-5c57f0e807ba>, line 1)",
     "output_type": "error",
     "traceback": [
      "\u001b[1;36m  File \u001b[1;32m\"<ipython-input-1-5c57f0e807ba>\"\u001b[1;36m, line \u001b[1;32m1\u001b[0m\n\u001b[1;33m    \"string one\u001b[0m\n\u001b[1;37m               ^\u001b[0m\n\u001b[1;31mSyntaxError\u001b[0m\u001b[1;31m:\u001b[0m EOL while scanning string literal\n"
     ]
    }
   ],
   "source": [
    "\"string one\n",
    "string two\"\n"
   ]
  },
  {
   "cell_type": "code",
   "execution_count": 10,
   "metadata": {},
   "outputs": [
    {
     "name": "stdout",
     "output_type": "stream",
     "text": [
      "K\n",
      "a\n",
      "A\n"
     ]
    }
   ],
   "source": [
    "author = 'KaffkA'\n",
    "print(author[0])\n",
    "print(author[1])\n",
    "print(author[-1])"
   ]
  },
  {
   "cell_type": "code",
   "execution_count": 1,
   "metadata": {},
   "outputs": [
    {
     "data": {
      "text/plain": [
       "'catinhat'"
      ]
     },
     "execution_count": 1,
     "metadata": {},
     "output_type": "execute_result"
    }
   ],
   "source": [
    "'cat'+'in'+'hat' #конкатенация"
   ]
  },
  {
   "cell_type": "code",
   "execution_count": 2,
   "metadata": {},
   "outputs": [
    {
     "data": {
      "text/plain": [
       "'bagbagbag'"
      ]
     },
     "execution_count": 2,
     "metadata": {},
     "output_type": "execute_result"
    }
   ],
   "source": [
    "'bag'*3 #умножение строк"
   ]
  },
  {
   "cell_type": "code",
   "execution_count": 4,
   "metadata": {},
   "outputs": [],
   "source": [
    "g = 'the true is over here...'.upper() #изменение регистра на пропискной"
   ]
  },
  {
   "cell_type": "code",
   "execution_count": 5,
   "metadata": {},
   "outputs": [
    {
     "name": "stdout",
     "output_type": "stream",
     "text": [
      "THE TRUE IS OVER HERE...\n"
     ]
    }
   ],
   "source": [
    "print(g)"
   ]
  },
  {
   "cell_type": "code",
   "execution_count": 9,
   "metadata": {},
   "outputs": [],
   "source": [
    "s = g.lower() # изменение регистра на строчный"
   ]
  },
  {
   "cell_type": "code",
   "execution_count": 10,
   "metadata": {},
   "outputs": [
    {
     "name": "stdout",
     "output_type": "stream",
     "text": [
      "the true is over here...\n"
     ]
    }
   ],
   "source": [
    "print(s)"
   ]
  },
  {
   "cell_type": "code",
   "execution_count": 11,
   "metadata": {},
   "outputs": [
    {
     "data": {
      "text/plain": [
       "'The true is over here...'"
      ]
     },
     "execution_count": 11,
     "metadata": {},
     "output_type": "execute_result"
    }
   ],
   "source": [
    "s.capitalize() # преобразование первой буквы в прописную"
   ]
  },
  {
   "cell_type": "code",
   "execution_count": 13,
   "metadata": {},
   "outputs": [
    {
     "data": {
      "text/plain": [
       "'William Folkner'"
      ]
     },
     "execution_count": 13,
     "metadata": {},
     "output_type": "execute_result"
    }
   ],
   "source": [
    "'William {}'.format('Folkner') # заменяет скобки переданным ему значением"
   ]
  },
  {
   "cell_type": "code",
   "execution_count": 14,
   "metadata": {},
   "outputs": [
    {
     "data": {
      "text/plain": [
       "'William Folkner was born in 1897'"
      ]
     },
     "execution_count": 14,
     "metadata": {},
     "output_type": "execute_result"
    }
   ],
   "source": [
    "author = 'William Folkner'\n",
    "year_born = '1897'\n",
    "'{} was born in {}'.format(author, year_born)"
   ]
  },
  {
   "cell_type": "code",
   "execution_count": 16,
   "metadata": {},
   "outputs": [
    {
     "name": "stdout",
     "output_type": "stream",
     "text": [
      "input noun: дом\n",
      "input verb: плыл\n",
      "input adjective: солнечный\n",
      "input noun: пол\n",
      "как обычно, дом плыл солнечный пол\n"
     ]
    }
   ],
   "source": [
    "n1 = input('input noun: ')\n",
    "v = input('input verb: ')\n",
    "adj = input('input adjective: ')\n",
    "n2 = input('input noun: ')\n",
    "\n",
    "r = 'как обычно, {} {} {} {}'.format(n1,v,adj,n2)\n",
    "\n",
    "print(r)"
   ]
  },
  {
   "cell_type": "code",
   "execution_count": 1,
   "metadata": {},
   "outputs": [
    {
     "data": {
      "text/plain": [
       "['i was jump over head', ' this 2 mettres']"
      ]
     },
     "execution_count": 1,
     "metadata": {},
     "output_type": "execute_result"
    }
   ],
   "source": [
    "'i was jump over head. this 2 mettres'.split('.') # метод разделяющий строку(по заданному элементу) и преобразующий ее в список"
   ]
  },
  {
   "cell_type": "code",
   "execution_count": 3,
   "metadata": {},
   "outputs": [
    {
     "name": "stdout",
     "output_type": "stream",
     "text": [
      "a+b+c\n"
     ]
    }
   ],
   "source": [
    "a = 'abc'\n",
    "result = '+'.join(a) # метод добавляющий символы между всеми символами в строке\n",
    "print(result)"
   ]
  },
  {
   "cell_type": "code",
   "execution_count": 48,
   "metadata": {},
   "outputs": [
    {
     "name": "stdout",
     "output_type": "stream",
     "text": [
      "      red fox did jump over head .\n"
     ]
    },
    {
     "data": {
      "text/plain": [
       "str"
      ]
     },
     "execution_count": 48,
     "metadata": {},
     "output_type": "execute_result"
    }
   ],
   "source": [
    "words = ['     ','red','fox','did','jump','over','head','.']\n",
    "one = ' '.join(words)\n",
    "print(one)\n",
    "type(one)"
   ]
  },
  {
   "cell_type": "code",
   "execution_count": 9,
   "metadata": {},
   "outputs": [
    {
     "name": "stdout",
     "output_type": "stream",
     "text": [
      "red fox did jump over head .\n"
     ]
    }
   ],
   "source": [
    "s = one.strip() #метод удаляет пробельные символы вначале и в конце строки\n",
    "print(s)"
   ]
  },
  {
   "cell_type": "code",
   "execution_count": 10,
   "metadata": {},
   "outputs": [
    {
     "name": "stdout",
     "output_type": "stream",
     "text": [
      "red f@x did jump @ver head .\n"
     ]
    }
   ],
   "source": [
    "d = s.replace('o','@') # метод заменяет указанные значения, на те, которые указаны\n",
    "print(d)"
   ]
  },
  {
   "cell_type": "code",
   "execution_count": 13,
   "metadata": {},
   "outputs": [
    {
     "data": {
      "text/plain": [
       "5"
      ]
     },
     "execution_count": 13,
     "metadata": {},
     "output_type": "execute_result"
    }
   ],
   "source": [
    "s.index('o') # метод возврашает индекс первого вхождения символа в строке, если не найдет сгенерирует искоючение"
   ]
  },
  {
   "cell_type": "code",
   "execution_count": 17,
   "metadata": {},
   "outputs": [
    {
     "name": "stdout",
     "output_type": "stream",
     "text": [
      "not found\n"
     ]
    }
   ],
   "source": [
    "try:\n",
    "    g = s.index('w')\n",
    "    print(g)\n",
    "except:\n",
    "    print('not found') # обработка исключений"
   ]
  },
  {
   "cell_type": "code",
   "execution_count": 18,
   "metadata": {},
   "outputs": [
    {
     "data": {
      "text/plain": [
       "True"
      ]
     },
     "execution_count": 18,
     "metadata": {},
     "output_type": "execute_result"
    }
   ],
   "source": [
    "'cat' in 'cat at the hat' # возвращает значение true or false"
   ]
  },
  {
   "cell_type": "code",
   "execution_count": 20,
   "metadata": {},
   "outputs": [
    {
     "data": {
      "text/plain": [
       "True"
      ]
     },
     "execution_count": 20,
     "metadata": {},
     "output_type": "execute_result"
    }
   ],
   "source": [
    "'mouse' not in 'cat at the hat'"
   ]
  },
  {
   "cell_type": "code",
   "execution_count": 23,
   "metadata": {},
   "outputs": [
    {
     "ename": "SyntaxError",
     "evalue": "invalid syntax (<ipython-input-23-9147bf141b34>, line 2)",
     "output_type": "error",
     "traceback": [
      "\u001b[1;36m  File \u001b[1;32m\"<ipython-input-23-9147bf141b34>\"\u001b[1;36m, line \u001b[1;32m2\u001b[0m\n\u001b[1;33m    'she speaks 'good.''\u001b[0m\n\u001b[1;37m                    ^\u001b[0m\n\u001b[1;31mSyntaxError\u001b[0m\u001b[1;31m:\u001b[0m invalid syntax\n"
     ]
    }
   ],
   "source": [
    "# этот код не работает\n",
    "'she speaks 'good.''"
   ]
  },
  {
   "cell_type": "code",
   "execution_count": 25,
   "metadata": {},
   "outputs": [
    {
     "data": {
      "text/plain": [
       "\"she speaks 'good.'\""
      ]
     },
     "execution_count": 25,
     "metadata": {},
     "output_type": "execute_result"
    }
   ],
   "source": [
    "# так работает (кавычки в кавычки поместить в обратный слэш), питон игнорирует символы после слэша\n",
    "'she speaks \\'good.\\''"
   ]
  },
  {
   "cell_type": "code",
   "execution_count": 26,
   "metadata": {},
   "outputs": [
    {
     "data": {
      "text/plain": [
       "'she speaks \"good.\"'"
      ]
     },
     "execution_count": 26,
     "metadata": {},
     "output_type": "execute_result"
    }
   ],
   "source": [
    "'she speaks \"good.\"' # используя разные кавычки можно избежать использование управляющих символов"
   ]
  },
  {
   "cell_type": "code",
   "execution_count": 27,
   "metadata": {},
   "outputs": [
    {
     "name": "stdout",
     "output_type": "stream",
     "text": [
      "string1\n",
      "string2\n",
      "string3\n"
     ]
    }
   ],
   "source": [
    "print('string1\\nstring2\\nstring3') # \\n выполняет перенос строки"
   ]
  },
  {
   "cell_type": "code",
   "execution_count": 28,
   "metadata": {},
   "outputs": [
    {
     "data": {
      "text/plain": [
       "['tolstoy', 'twen', 'oruel']"
      ]
     },
     "execution_count": 28,
     "metadata": {},
     "output_type": "execute_result"
    }
   ],
   "source": [
    "fict = ['tolstoy','twen','oruel','pelevin','markes']\n",
    "fict[0:3] # возвращает новый итерируемый обьект(индексы указывают начало и конец среза)"
   ]
  },
  {
   "cell_type": "code",
   "execution_count": 33,
   "metadata": {},
   "outputs": [
    {
     "name": "stdout",
     "output_type": "stream",
     "text": [
      "петр иванович успокоился\n",
      " и с интересом стал распрашивать подробности о кончине ивана ильича.\n"
     ]
    }
   ],
   "source": [
    "ivan = 'петр иванович успокоился и с интересом стал распрашивать подробности о кончине ивана ильича.'\n",
    "print(ivan[:24])\n",
    "print(ivan[24:])"
   ]
  },
  {
   "cell_type": "code",
   "execution_count": 34,
   "metadata": {},
   "outputs": [
    {
     "name": "stdout",
     "output_type": "stream",
     "text": [
      "c\n",
      "h\n",
      "e\n",
      "h\n",
      "o\n",
      "v\n"
     ]
    }
   ],
   "source": [
    "string = 'chehov'\n",
    "print(string[0])\n",
    "print(string[1])\n",
    "print(string[2])\n",
    "print(string[-3])\n",
    "print(string[-2])\n",
    "print(string[-1])"
   ]
  },
  {
   "cell_type": "code",
   "execution_count": 35,
   "metadata": {},
   "outputs": [
    {
     "name": "stdout",
     "output_type": "stream",
     "text": [
      "Yesterday i write: book\n",
      "Yesterday i went in: scool\n",
      "Yesterday i write: book. Yesterday i went in: scool\n"
     ]
    }
   ],
   "source": [
    "wiw = input('Yesterday i write: ')\n",
    "wig = input('Yesterday i went in: ')\n",
    "res = 'Yesterday i write: {}. Yesterday i went in: {}'.format(wiw,wig)\n",
    "print(res)"
   ]
  },
  {
   "cell_type": "code",
   "execution_count": 38,
   "metadata": {},
   "outputs": [
    {
     "name": "stdout",
     "output_type": "stream",
     "text": [
      "Олдос хаксли родился в 1894 году.\n"
     ]
    }
   ],
   "source": [
    "s = \"олдос хаксли родился в 1894 году.\"\n",
    "print(s.capitalize())"
   ]
  },
  {
   "cell_type": "code",
   "execution_count": 46,
   "metadata": {},
   "outputs": [
    {
     "name": "stdout",
     "output_type": "stream",
     "text": [
      "['Где это?', 'Кто это?', 'Когда это? ']\n"
     ]
    }
   ],
   "source": [
    "s1 = 'Где это? Кто это? Когда это?'\n",
    "\n",
    "slist = s1.replace('?','? ')\n",
    "slist2 = slist.split('  ')\n",
    "print(slist2)"
   ]
  },
  {
   "cell_type": "code",
   "execution_count": 50,
   "metadata": {},
   "outputs": [
    {
     "name": "stdout",
     "output_type": "stream",
     "text": [
      "Red fox jump over less fence.\n"
     ]
    }
   ],
   "source": [
    "list3 = ['red','fox','jump','over','less','fence','.']\n",
    "res = ' '.join(list3)\n",
    "res2 = res.replace(' .','.')\n",
    "print(res2.capitalize())"
   ]
  },
  {
   "cell_type": "code",
   "execution_count": 51,
   "metadata": {},
   "outputs": [
    {
     "name": "stdout",
     "output_type": "stream",
     "text": [
      "Ребен0к - зеркал0 п0ступк0в р0дителей.\n"
     ]
    }
   ],
   "source": [
    "string1 = 'Ребенок - зеркало поступков родителей.'\n",
    "print(string1.replace('о','0'))"
   ]
  },
  {
   "cell_type": "code",
   "execution_count": 52,
   "metadata": {},
   "outputs": [
    {
     "name": "stdout",
     "output_type": "stream",
     "text": [
      "6\n"
     ]
    }
   ],
   "source": [
    "print(string1.index('к'))"
   ]
  },
  {
   "cell_type": "code",
   "execution_count": 54,
   "metadata": {},
   "outputs": [
    {
     "name": "stdout",
     "output_type": "stream",
     "text": [
      "threethreethree\n",
      "threethreethree\n"
     ]
    }
   ],
   "source": [
    "a3 = 'three'\n",
    "print(a3+a3+a3)\n",
    "print(a3*3)"
   ]
  },
  {
   "cell_type": "code",
   "execution_count": 55,
   "metadata": {},
   "outputs": [
    {
     "name": "stdout",
     "output_type": "stream",
     "text": [
      "И незачем так орать\n"
     ]
    }
   ],
   "source": [
    "string2 = 'И незачем так орать! Я и в первый раз прекрасно слышал.'\n",
    "print(string2[:19])"
   ]
  }
 ],
 "metadata": {
  "kernelspec": {
   "display_name": "Python 3",
   "language": "python",
   "name": "python3"
  },
  "language_info": {
   "codemirror_mode": {
    "name": "ipython",
    "version": 3
   },
   "file_extension": ".py",
   "mimetype": "text/x-python",
   "name": "python",
   "nbconvert_exporter": "python",
   "pygments_lexer": "ipython3",
   "version": "3.7.3"
  }
 },
 "nbformat": 4,
 "nbformat_minor": 2
}
