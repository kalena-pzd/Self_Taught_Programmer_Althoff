{
 "cells": [
  {
   "cell_type": "code",
   "execution_count": 3,
   "metadata": {},
   "outputs": [
    {
     "name": "stdout",
     "output_type": "stream",
     "text": [
      "['ВО ВСЕ ТЯЖКИЕ', 'СЕКРЕТНЫЕ МАТЕРИАЛЫ', 'ФАРГО']\n"
     ]
    }
   ],
   "source": [
    "shows = ['во все тяжкие','секретные материалы','фарго']\n",
    "i = 0\n",
    "for show in shows:\n",
    "    new = shows[i]\n",
    "    new = new.upper() # метод, заменяющий все буквы элемента списка на прописные \n",
    "    shows[i] = new\n",
    "    i += 1\n",
    "print(shows)"
   ]
  },
  {
   "cell_type": "code",
   "execution_count": 6,
   "metadata": {},
   "outputs": [
    {
     "name": "stdout",
     "output_type": "stream",
     "text": [
      "0 во все тяжкие\n",
      "1 секретные материалы\n",
      "2 фарго\n",
      "['ВО ВСЕ ТЯЖКИЕ', 'СЕКРЕТНЫЕ МАТЕРИАЛЫ', 'ФАРГО']\n"
     ]
    }
   ],
   "source": [
    "shows = ['во все тяжкие','секретные материалы','фарго']\n",
    "for i, show in enumerate(shows): # выполняет перебор результата\n",
    "    new = shows[i]\n",
    "    new = new.upper() # метод, заменяющий все буквы элемента списка на прописные \n",
    "    shows[i] = new\n",
    "    print(i,show)\n",
    "print(shows)"
   ]
  },
  {
   "cell_type": "code",
   "execution_count": 7,
   "metadata": {},
   "outputs": [
    {
     "name": "stdout",
     "output_type": "stream",
     "text": [
      "['ВО ВСЕ ТЯЖКИЕ', 'СЕКРЕТНЫЕ МАТЕРИАЛЫ', 'ФАРГО', 'BIG BAND THEORY', 'FRIENDS', \"FATHER'S DAUGHTERS\"]\n"
     ]
    }
   ],
   "source": [
    "tv = ['во все тяжкие','секретные материалы','фарго']\n",
    "coms = ['big band theory','friends',\"father's daughters\"]\n",
    "all_shows = []\n",
    "for show in tv: \n",
    "    show = show.upper() # заменяет буквы прописными\n",
    "    all_shows.append(show) # добавляет элемент в список\n",
    "for show in coms:\n",
    "    show = show.upper()\n",
    "    all_shows.append(show)\n",
    "print(all_shows)"
   ]
  },
  {
   "cell_type": "code",
   "execution_count": 8,
   "metadata": {},
   "outputs": [
    {
     "name": "stdout",
     "output_type": "stream",
     "text": [
      "1\n",
      "2\n",
      "3\n",
      "4\n",
      "5\n",
      "6\n",
      "7\n",
      "8\n",
      "9\n",
      "10\n"
     ]
    }
   ],
   "source": [
    "for i in range(1,11):\n",
    "    print(i)"
   ]
  },
  {
   "cell_type": "code",
   "execution_count": 11,
   "metadata": {},
   "outputs": [
    {
     "name": "stdout",
     "output_type": "stream",
     "text": [
      "10\n",
      "9\n",
      "8\n",
      "7\n",
      "6\n",
      "5\n",
      "4\n",
      "3\n",
      "2\n",
      "1\n",
      "happy new year!\n"
     ]
    }
   ],
   "source": [
    "x = 10\n",
    "while x > 0:\n",
    "    print(x)\n",
    "    x -= 1\n",
    "print('happy new year!')"
   ]
  },
  {
   "cell_type": "code",
   "execution_count": 12,
   "metadata": {},
   "outputs": [
    {
     "name": "stdout",
     "output_type": "stream",
     "text": [
      "0\n"
     ]
    }
   ],
   "source": [
    "for i in range(0,100):\n",
    "    print(i)\n",
    "    break # команда завершает выполнение цикла, поэтому он выполнится 1 раз"
   ]
  },
  {
   "cell_type": "code",
   "execution_count": 16,
   "metadata": {},
   "outputs": [
    {
     "name": "stdout",
     "output_type": "stream",
     "text": [
      "enter x for escape\n",
      "what is your name?a\n",
      "1\n",
      "enter x for escape\n",
      "what is your favorite colour?a\n",
      "2\n",
      "enter x for escape\n",
      "what do you do?a\n",
      "0\n",
      "enter x for escape\n",
      "what is your name?x\n"
     ]
    }
   ],
   "source": [
    "qs = ['what is your name?','what is your favorite colour?','what do you do?']\n",
    "n = 0\n",
    "while True:\n",
    "    print('enter x for escape')\n",
    "    a = input(qs[n])\n",
    "    if a == 'x':\n",
    "        break\n",
    "    n = (n+1)%3 # зацикливает прохождение по списку\n",
    "    print(n)"
   ]
  },
  {
   "cell_type": "code",
   "execution_count": 1,
   "metadata": {},
   "outputs": [
    {
     "name": "stdout",
     "output_type": "stream",
     "text": [
      "1\n",
      "2\n",
      "4\n",
      "5\n"
     ]
    }
   ],
   "source": [
    "for i in range(1,6):\n",
    "    if i == 3:\n",
    "        continue # инструкция, прерывающая итерацию цикла до следующей итерации(в данном случае)\n",
    "    print(i)"
   ]
  },
  {
   "cell_type": "code",
   "execution_count": 2,
   "metadata": {},
   "outputs": [
    {
     "name": "stdout",
     "output_type": "stream",
     "text": [
      "1\n",
      "2\n",
      "4\n",
      "5\n"
     ]
    }
   ],
   "source": [
    "i = 1\n",
    "while i <= 5:\n",
    "    if i ==3:\n",
    "        i += 1\n",
    "        continue # та же задача реализуемая с помощью цикла while\n",
    "    print(i)\n",
    "    i += 1"
   ]
  },
  {
   "cell_type": "code",
   "execution_count": 3,
   "metadata": {},
   "outputs": [
    {
     "name": "stdout",
     "output_type": "stream",
     "text": [
      "1\n",
      "a\n",
      "b\n",
      "c\n",
      "2\n",
      "a\n",
      "b\n",
      "c\n"
     ]
    }
   ],
   "source": [
    "for i in range(1,3):\n",
    "    print(i)\n",
    "    for letter in ['a','b','c']:\n",
    "        print(letter)"
   ]
  },
  {
   "cell_type": "code",
   "execution_count": 4,
   "metadata": {},
   "outputs": [
    {
     "name": "stdout",
     "output_type": "stream",
     "text": [
      "[6, 7, 8, 9, 7, 8, 9, 10, 8, 9, 10, 11, 9, 10, 11, 12]\n"
     ]
    }
   ],
   "source": [
    "list1 = [1,2,3,4]\n",
    "list2 = [5,6,7,8]\n",
    "added = []\n",
    "for i in list1:\n",
    "    for j in list2:\n",
    "        added.append(i+j) # добавляет в список эллемент, являющейся суммой двух значений\n",
    "print(added)"
   ]
  },
  {
   "cell_type": "code",
   "execution_count": 6,
   "metadata": {},
   "outputs": [
    {
     "name": "stdout",
     "output_type": "stream",
     "text": [
      "y or n?y\n",
      "1\n",
      "2\n",
      "3\n",
      "4\n",
      "5\n",
      "y or n?n\n"
     ]
    }
   ],
   "source": [
    "while input('y or n?') != 'n': # возвращает значение \"истина\", если введенное значение не равно \"n\"\n",
    "    for i in range(1,6):\n",
    "        print(i)"
   ]
  },
  {
   "cell_type": "code",
   "execution_count": 7,
   "metadata": {},
   "outputs": [
    {
     "name": "stdout",
     "output_type": "stream",
     "text": [
      "ходячие мертвецы\n",
      "красавцы\n",
      "клан сопрано\n",
      "дневники вампира\n"
     ]
    }
   ],
   "source": [
    "serial = ['ходячие мертвецы','красавцы','клан сопрано','дневники вампира']\n",
    "for i in range(4):\n",
    "    print(serial[i])"
   ]
  },
  {
   "cell_type": "code",
   "execution_count": 8,
   "metadata": {},
   "outputs": [
    {
     "name": "stdout",
     "output_type": "stream",
     "text": [
      "25\n",
      "26\n",
      "27\n",
      "28\n",
      "29\n",
      "30\n",
      "31\n",
      "32\n",
      "33\n",
      "34\n",
      "35\n",
      "36\n",
      "37\n",
      "38\n",
      "39\n",
      "40\n",
      "41\n",
      "42\n",
      "43\n",
      "44\n",
      "45\n",
      "46\n",
      "47\n",
      "48\n",
      "49\n",
      "50\n"
     ]
    }
   ],
   "source": [
    "for i in range(25,51):\n",
    "    print(i)"
   ]
  },
  {
   "cell_type": "code",
   "execution_count": 9,
   "metadata": {},
   "outputs": [
    {
     "name": "stdout",
     "output_type": "stream",
     "text": [
      "0\n",
      "ходячие мертвецы\n",
      "1\n",
      "красавцы\n",
      "2\n",
      "клан сопрано\n",
      "3\n",
      "дневники вампира\n"
     ]
    }
   ],
   "source": [
    "serial = ['ходячие мертвецы','красавцы','клан сопрано','дневники вампира']\n",
    "for i in range(4):\n",
    "    print(i)\n",
    "    print(serial[i])"
   ]
  },
  {
   "cell_type": "code",
   "execution_count": 1,
   "metadata": {},
   "outputs": [
    {
     "name": "stdout",
     "output_type": "stream",
     "text": [
      "для выхода введите x\n",
      "угадайте число из списка: 3\n",
      "1\n",
      "2\n",
      "3\n",
      "вы угадали!\n",
      "4\n",
      "5\n",
      "6\n",
      "7\n",
      "8\n",
      "9\n",
      "угадайте число из списка: 11\n",
      "1\n",
      "2\n",
      "3\n",
      "4\n",
      "5\n",
      "6\n",
      "7\n",
      "8\n",
      "9\n",
      "угадайте число из списка: 1\n",
      "1\n",
      "вы угадали!\n",
      "2\n",
      "3\n",
      "4\n",
      "5\n",
      "6\n",
      "7\n",
      "8\n",
      "9\n",
      "угадайте число из списка: x\n"
     ]
    }
   ],
   "source": [
    "list1 = [1,2,3,4,5,6,7,8,9]\n",
    "print('для выхода введите x')\n",
    "while True:\n",
    "    noon = input('угадайте число из списка: ')\n",
    "    if noon == 'x':\n",
    "        break\n",
    "    for i in range(9):\n",
    "        if i == int(noon):\n",
    "            print('вы угадали!')\n",
    "        print(list1[i])\n"
   ]
  },
  {
   "cell_type": "code",
   "execution_count": 2,
   "metadata": {},
   "outputs": [
    {
     "name": "stdout",
     "output_type": "stream",
     "text": [
      "Угадайте число или введите Х для выхода.2\n",
      "Неправильно!\n",
      "Угадайте число или введите Х для выхода.55\n",
      "Неправильно!\n",
      "Угадайте число или введите Х для выхода.11\n",
      "Вы угадали!\n",
      "Угадайте число или введите Х для выхода.x\n",
      "пожалуйста, введите число или Х для выхода.\n",
      "Неправильно!\n",
      "Угадайте число или введите Х для выхода.X\n",
      "пожалуйста, введите число или Х для выхода.\n",
      "Неправильно!\n",
      "Угадайте число или введите Х для выхода.X\n",
      "пожалуйста, введите число или Х для выхода.\n",
      "Неправильно!\n",
      "Угадайте число или введите Х для выхода.Х\n"
     ]
    }
   ],
   "source": [
    "numbers = [11, 32, 33, 15, 1]\n",
    "\n",
    "while True:\n",
    "    answer = input(\"Угадайте число или введите Х для выхода.\")\n",
    "    if answer == \"Х\":\n",
    "        break\n",
    "    try:\n",
    "        answer = int(answer)\n",
    "    except ValueError:\n",
    "        print(\"пожалуйста, введите число или Х для выхода.\")\n",
    "    if answer in numbers:\n",
    "        print(\"Вы угадали!\")\n",
    "    else:\n",
    "        print(\"Неправильно!\")"
   ]
  },
  {
   "cell_type": "code",
   "execution_count": 3,
   "metadata": {},
   "outputs": [
    {
     "name": "stdout",
     "output_type": "stream",
     "text": [
      "[72, 8, 264, 664, 171, 19, 627, 1577, 1332, 148, 4884, 12284, 36, 4, 132, 332]\n"
     ]
    }
   ],
   "source": [
    "list1 = [8,19,148,4]\n",
    "list2 = [9,1,33,83]\n",
    "list3 = []\n",
    "for i in list1:\n",
    "    for j in list2:\n",
    "        list3.append(i*j)\n",
    "print(list3)"
   ]
  }
 ],
 "metadata": {
  "kernelspec": {
   "display_name": "Python 3",
   "language": "python",
   "name": "python3"
  },
  "language_info": {
   "codemirror_mode": {
    "name": "ipython",
    "version": 3
   },
   "file_extension": ".py",
   "mimetype": "text/x-python",
   "name": "python",
   "nbconvert_exporter": "python",
   "pygments_lexer": "ipython3",
   "version": "3.7.3"
  }
 },
 "nbformat": 4,
 "nbformat_minor": 2
}
