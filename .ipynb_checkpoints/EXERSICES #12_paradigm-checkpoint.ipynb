{
 "cells": [
  {
   "cell_type": "code",
   "execution_count": 2,
   "metadata": {},
   "outputs": [
    {
     "name": "stdout",
     "output_type": "stream",
     "text": [
      "Created!\n",
      "<__main__.Orange object at 0x000001DA10793F98>\n"
     ]
    }
   ],
   "source": [
    "class Orange:\n",
    "    def __init__(self, w, c): # выполняется при создании обьекта и создает 2 переменные weight и color\n",
    "        self.weight = w\n",
    "        self.color = c\n",
    "        print('Created!')\n",
    "        \n",
    "or1 = Orange(10,\"dark orange\") # создание экземпляра класса\n",
    "print(or1)"
   ]
  },
  {
   "cell_type": "code",
   "execution_count": 3,
   "metadata": {},
   "outputs": [
    {
     "name": "stdout",
     "output_type": "stream",
     "text": [
      "10\n",
      "dark orange\n"
     ]
    }
   ],
   "source": [
    "print(or1.weight)\n",
    "print(or1.color)"
   ]
  },
  {
   "cell_type": "code",
   "execution_count": 4,
   "metadata": {},
   "outputs": [
    {
     "name": "stdout",
     "output_type": "stream",
     "text": [
      "100\n",
      "white orange\n"
     ]
    }
   ],
   "source": [
    "or1.weight = 100\n",
    "or1.color = 'white orange'\n",
    "\n",
    "print(or1.weight)\n",
    "print(or1.color)\n"
   ]
  },
  {
   "cell_type": "code",
   "execution_count": 6,
   "metadata": {},
   "outputs": [
    {
     "name": "stdout",
     "output_type": "stream",
     "text": [
      "Created!\n",
      "0\n",
      "330\n"
     ]
    }
   ],
   "source": [
    "class Orange():\n",
    "    def __init__(self, w, c): # выполняется при создании обьекта и создает 2 переменные weight и color\n",
    "        ''' вес в граммах '''\n",
    "        self.weight = w # метод, которому присваивается значение\n",
    "        self.color = c # метод, которому присваивается значение\n",
    "        self.mold = 0\n",
    "        print('Created!')\n",
    "        \n",
    "    def rot(self, days, temp):\n",
    "        self.mold = days * temp # метод изменяет значение переменной экземпляра внутри метода\n",
    "        \n",
    "orange = Orange(6, 'orange') # orange  - это обьект(экземпляр) созданный классом Orange \n",
    "print(orange.mold) # метод, вызываемый в обьекте созданном классом\n",
    "orange.rot(10, 33) # метод, вызываемый в обьекте созданном классом\n",
    "print(orange.mold) # метод, вызываемый в обьекте созданном классом"
   ]
  },
  {
   "cell_type": "code",
   "execution_count": 7,
   "metadata": {},
   "outputs": [
    {
     "name": "stdout",
     "output_type": "stream",
     "text": [
      "200\n",
      "800\n"
     ]
    }
   ],
   "source": [
    "# Построение модели прямоугольника при помощи метода для расчета его площади и другогометода для изменения его размера\n",
    "\n",
    "class Rectangle():\n",
    "    def __init__(self, w, l):\n",
    "        self.width = w\n",
    "        self.len = l\n",
    "        \n",
    "    def area(self):\n",
    "        return self.width * self.len\n",
    "    def change_size(self, w, l):\n",
    "        self.width = w\n",
    "        self.len = l\n",
    "        \n",
    "rectangle = Rectangle(10, 20)\n",
    "print(rectangle.area())\n",
    "rectangle.change_size(20, 40)\n",
    "print(rectangle.area())"
   ]
  },
  {
   "cell_type": "code",
   "execution_count": 12,
   "metadata": {},
   "outputs": [
    {
     "name": "stdout",
     "output_type": "stream",
     "text": [
      "not fresh\n",
      "100\n"
     ]
    }
   ],
   "source": [
    "# определите класс Apple  с 4 переменными экземпляра, представляющими 4 свойства яблок\n",
    "\n",
    "class Apple():\n",
    "    def __init__(self, c, w, s, f):\n",
    "        self.color = c\n",
    "        self.weight = w\n",
    "        self.size = s\n",
    "        self.fresh = f\n",
    "\n",
    "properties = Apple('green', 100, 40, 'not fresh')\n",
    "print(properties.fresh)\n",
    "print(properties.weight)"
   ]
  },
  {
   "cell_type": "code",
   "execution_count": 8,
   "metadata": {},
   "outputs": [],
   "source": [
    "'''' Создайте класс Circle с методом area, подсчитывающим и возвращающим площадь круга.\n",
    "     Затем создайте обьект Circle, вызовите в нем метод area и выведите результат\n",
    "     Воспользуйтесь функцией pi из модуля math\n",
    "'''''\n",
    "class Circle():\n",
    "    def __init__(self, r):\n",
    "        self.radius = r\n",
    "    def area(self):\n",
    "        import math\n",
    "        return self.radius**2*math.pi\n",
    "    "
   ]
  },
  {
   "cell_type": "code",
   "execution_count": 11,
   "metadata": {},
   "outputs": [
    {
     "name": "stdout",
     "output_type": "stream",
     "text": [
      "314.1592653589793\n"
     ]
    }
   ],
   "source": [
    "circle = Circle(10)\n",
    "print(circle.area())"
   ]
  },
  {
   "cell_type": "code",
   "execution_count": 12,
   "metadata": {},
   "outputs": [],
   "source": [
    "\"\"\" Создайте класс Triangle с методом area, подсчитывающим и возвращающим площадь треуголльника.\n",
    "    Затем создайте обьект Triangle, вызовите в нем area и выведите результат\n",
    "\"\"\"\n",
    "class Triangle():\n",
    "    def __init__(self, b, h):\n",
    "        self.basis = b\n",
    "        self.height = h\n",
    "    def area(self):\n",
    "        return 0.5*self.basis*self.height\n",
    "    "
   ]
  },
  {
   "cell_type": "code",
   "execution_count": 13,
   "metadata": {},
   "outputs": [
    {
     "name": "stdout",
     "output_type": "stream",
     "text": [
      "50.0\n"
     ]
    }
   ],
   "source": [
    "Triangle = Triangle(10,10)\n",
    "print(Triangle.area())"
   ]
  },
  {
   "cell_type": "code",
   "execution_count": 16,
   "metadata": {},
   "outputs": [],
   "source": [
    "\"\"\" Создайте класс Hexagon c методом calculate_perimeter, подсчитывающим и возвращающим периметр шестиугольника. \n",
    "    Затем создайте обьект Hexagon, вызовите в нем calculate_perimeter и выведите результат\n",
    "\"\"\"\n",
    "class Hexagon():\n",
    "    def __init__(self, a, b, c, d, e, f):\n",
    "        self.a = a\n",
    "        self.b = b\n",
    "        self.c = c\n",
    "        self.d = d\n",
    "        self.e = e\n",
    "        self.f = f\n",
    "    def calculate_perimeter(self):\n",
    "        return self.a + self.b + self.c + self.d + self.e + self.f\n",
    "    "
   ]
  },
  {
   "cell_type": "code",
   "execution_count": 17,
   "metadata": {},
   "outputs": [
    {
     "name": "stdout",
     "output_type": "stream",
     "text": [
      "21\n"
     ]
    }
   ],
   "source": [
    "hexagon = Hexagon(1,2,3,4,5,6)\n",
    "print(hexagon.calculate_perimeter())"
   ]
  }
 ],
 "metadata": {
  "kernelspec": {
   "display_name": "Python 3",
   "language": "python",
   "name": "python3"
  },
  "language_info": {
   "codemirror_mode": {
    "name": "ipython",
    "version": 3
   },
   "file_extension": ".py",
   "mimetype": "text/x-python",
   "name": "python",
   "nbconvert_exporter": "python",
   "pygments_lexer": "ipython3",
   "version": "3.7.3"
  }
 },
 "nbformat": 4,
 "nbformat_minor": 2
}
