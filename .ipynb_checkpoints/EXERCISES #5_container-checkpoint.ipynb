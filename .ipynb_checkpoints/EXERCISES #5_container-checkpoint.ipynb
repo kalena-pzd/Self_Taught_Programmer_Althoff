{
 "cells": [
  {
   "cell_type": "code",
   "execution_count": 1,
   "metadata": {},
   "outputs": [
    {
     "data": {
      "text/plain": [
       "'HELLO'"
      ]
     },
     "execution_count": 1,
     "metadata": {},
     "output_type": "execute_result"
    }
   ],
   "source": [
    "\"HELLO\".upper()"
   ]
  },
  {
   "cell_type": "code",
   "execution_count": 2,
   "metadata": {},
   "outputs": [
    {
     "data": {
      "text/plain": [
       "'h@llo'"
      ]
     },
     "execution_count": 2,
     "metadata": {},
     "output_type": "execute_result"
    }
   ],
   "source": [
    "\"hello\".replace('e','@')"
   ]
  },
  {
   "cell_type": "code",
   "execution_count": 8,
   "metadata": {},
   "outputs": [
    {
     "name": "stdout",
     "output_type": "stream",
     "text": [
      "[] []\n"
     ]
    }
   ],
   "source": [
    "fruit = list()\n",
    "fruit1 = []\n",
    "print(fruit, fruit1)"
   ]
  },
  {
   "cell_type": "code",
   "execution_count": 13,
   "metadata": {},
   "outputs": [
    {
     "data": {
      "text/plain": [
       "['apple', 'orange', 'peach', 'banana', 'melon']"
      ]
     },
     "execution_count": 13,
     "metadata": {},
     "output_type": "execute_result"
    }
   ],
   "source": [
    "fruit = ['apple','orange','peach']\n",
    "fruit.append('banana')\n",
    "fruit.append('melon') # метод append добавляет элемент в конец списка\n",
    "fruit"
   ]
  },
  {
   "cell_type": "code",
   "execution_count": 16,
   "metadata": {},
   "outputs": [
    {
     "data": {
      "text/plain": [
       "[True, 100, 1.1, 'hey']"
      ]
     },
     "execution_count": 16,
     "metadata": {},
     "output_type": "execute_result"
    }
   ],
   "source": [
    "randome = []\n",
    "randome.append(True)\n",
    "randome.append(100)\n",
    "randome.append(1.1)\n",
    "randome.append('hey')\n",
    "randome"
   ]
  },
  {
   "cell_type": "code",
   "execution_count": 21,
   "metadata": {},
   "outputs": [
    {
     "name": "stdout",
     "output_type": "stream",
     "text": [
      "apple\n",
      "orange\n",
      "melon\n"
     ]
    }
   ],
   "source": [
    "print(fruit[0])\n",
    "print(fruit[1])\n",
    "print(fruit[4])"
   ]
  },
  {
   "cell_type": "code",
   "execution_count": 29,
   "metadata": {
    "scrolled": true
   },
   "outputs": [
    {
     "name": "stdout",
     "output_type": "stream",
     "text": [
      "['blue', 'green', 'yellow']\n",
      "['blue', 'red', 'yellow']\n",
      "yellow\n",
      "['blue', 'red']\n"
     ]
    }
   ],
   "source": [
    "colors = ['blue','green','yellow']\n",
    "print(colors)\n",
    "colors[1] = 'red'\n",
    "print(colors)\n",
    "\n",
    "item = colors.pop() # удаляет последний элемент в списке, можно указать какой именно элемент удалить\n",
    "print(item)\n",
    "print(colors)"
   ]
  },
  {
   "cell_type": "code",
   "execution_count": 30,
   "metadata": {},
   "outputs": [
    {
     "data": {
      "text/plain": [
       "['blue', 'red', 'orange', 'pink', 'black']"
      ]
     },
     "execution_count": 30,
     "metadata": {},
     "output_type": "execute_result"
    }
   ],
   "source": [
    "colors2 = ['orange','pink','black']\n",
    "colors+colors2"
   ]
  },
  {
   "cell_type": "code",
   "execution_count": 32,
   "metadata": {},
   "outputs": [
    {
     "data": {
      "text/plain": [
       "True"
      ]
     },
     "execution_count": 32,
     "metadata": {},
     "output_type": "execute_result"
    }
   ],
   "source": [
    "'pink' in colors2"
   ]
  },
  {
   "cell_type": "code",
   "execution_count": 33,
   "metadata": {},
   "outputs": [
    {
     "data": {
      "text/plain": [
       "True"
      ]
     },
     "execution_count": 33,
     "metadata": {},
     "output_type": "execute_result"
    }
   ],
   "source": [
    "'black' not in colors"
   ]
  },
  {
   "cell_type": "code",
   "execution_count": 34,
   "metadata": {},
   "outputs": [
    {
     "data": {
      "text/plain": [
       "2"
      ]
     },
     "execution_count": 34,
     "metadata": {},
     "output_type": "execute_result"
    }
   ],
   "source": [
    "len(colors)"
   ]
  },
  {
   "cell_type": "code",
   "execution_count": 36,
   "metadata": {},
   "outputs": [
    {
     "name": "stdout",
     "output_type": "stream",
     "text": [
      "guess the color: orange\n",
      "are you guessing\n"
     ]
    }
   ],
   "source": [
    "colors3 = ['purple','orange','green']\n",
    "guess = input('guess the color: ')\n",
    "if guess in colors3:\n",
    "    print('are you guessing')\n",
    "else:\n",
    "    print('wrong! try again.')"
   ]
  },
  {
   "cell_type": "code",
   "execution_count": 3,
   "metadata": {},
   "outputs": [
    {
     "data": {
      "text/plain": [
       "()"
      ]
     },
     "execution_count": 3,
     "metadata": {},
     "output_type": "execute_result"
    }
   ],
   "source": [
    "my_tuple = tuple()\n",
    "my_tuple"
   ]
  },
  {
   "cell_type": "code",
   "execution_count": 4,
   "metadata": {},
   "outputs": [
    {
     "data": {
      "text/plain": [
       "('M.Jakson', 1958, True)"
      ]
     },
     "execution_count": 4,
     "metadata": {},
     "output_type": "execute_result"
    }
   ],
   "source": [
    "rndm = ('M.Jakson',1958,True)\n",
    "rndm"
   ]
  },
  {
   "cell_type": "code",
   "execution_count": 5,
   "metadata": {},
   "outputs": [
    {
     "data": {
      "text/plain": [
       "True"
      ]
     },
     "execution_count": 5,
     "metadata": {},
     "output_type": "execute_result"
    }
   ],
   "source": [
    "dys = ('1984','new world','451 degree')\n",
    "'1984' in dys"
   ]
  },
  {
   "cell_type": "code",
   "execution_count": 6,
   "metadata": {},
   "outputs": [
    {
     "data": {
      "text/plain": [
       "True"
      ]
     },
     "execution_count": 6,
     "metadata": {},
     "output_type": "execute_result"
    }
   ],
   "source": [
    "'story of slavory' not in dys"
   ]
  },
  {
   "cell_type": "code",
   "execution_count": 7,
   "metadata": {},
   "outputs": [
    {
     "data": {
      "text/plain": [
       "{'apple': 'red', 'banana': 'yellow'}"
      ]
     },
     "execution_count": 7,
     "metadata": {},
     "output_type": "execute_result"
    }
   ],
   "source": [
    "fruits = {'apple':'red','banana':'yellow'}\n",
    "fruits"
   ]
  },
  {
   "cell_type": "code",
   "execution_count": 8,
   "metadata": {},
   "outputs": [
    {
     "data": {
      "text/plain": [
       "'funny'"
      ]
     },
     "execution_count": 8,
     "metadata": {},
     "output_type": "execute_result"
    }
   ],
   "source": [
    "facts = dict() #словарь можно обьявитть и так (как и список и кортеж)\n",
    "facts['code'] = 'funny'\n",
    "facts['code']"
   ]
  },
  {
   "cell_type": "code",
   "execution_count": 10,
   "metadata": {},
   "outputs": [
    {
     "data": {
      "text/plain": [
       "True"
      ]
     },
     "execution_count": 10,
     "metadata": {},
     "output_type": "execute_result"
    }
   ],
   "source": [
    "bill = {'Bill Gates':'generous'}\n",
    "'Bill Gates' in bill"
   ]
  },
  {
   "cell_type": "code",
   "execution_count": 11,
   "metadata": {},
   "outputs": [
    {
     "data": {
      "text/plain": [
       "True"
      ]
     },
     "execution_count": 11,
     "metadata": {},
     "output_type": "execute_result"
    }
   ],
   "source": [
    "'Bill Doors' not in bill"
   ]
  },
  {
   "cell_type": "code",
   "execution_count": 12,
   "metadata": {},
   "outputs": [
    {
     "data": {
      "text/plain": [
       "{'dracula': 'Stoker', '1984': 'Oruell'}"
      ]
     },
     "execution_count": 12,
     "metadata": {},
     "output_type": "execute_result"
    }
   ],
   "source": [
    "books = {'dracula':'Stoker','1984':'Oruell','Process':'Kafka'}\n",
    "del books['Process'] # удаляет пару ключ/значение из словаря по ключу\n",
    "books"
   ]
  },
  {
   "cell_type": "code",
   "execution_count": 16,
   "metadata": {},
   "outputs": [
    {
     "name": "stdout",
     "output_type": "stream",
     "text": [
      "enter the number: 4\n",
      "floor\n"
     ]
    }
   ],
   "source": [
    "rhymes = {'1':'laughter',\n",
    "         '2':'blue',\n",
    "         '3':'i am',\n",
    "         '4':'floor',\n",
    "         '5':'life'}\n",
    "n = input('enter the number: ')\n",
    "if n in rhymes:\n",
    "    rhyme = rhymes[n]\n",
    "    print(rhyme)\n",
    "else:\n",
    "    print('not found')"
   ]
  },
  {
   "cell_type": "code",
   "execution_count": 1,
   "metadata": {},
   "outputs": [
    {
     "name": "stdout",
     "output_type": "stream",
     "text": [
      "[['баста', 'кравц', 'злой дух', '25-17'], ['наутилус', 'кино', 'ария'], ['paul oakenfold', 'tiesto']]\n",
      "['баста', 'кравц', 'злой дух', '25-17']\n",
      "['баста', 'кравц', 'злой дух', '25-17', 'наше дело']\n",
      "[['баста', 'кравц', 'злой дух', '25-17', 'наше дело'], ['наутилус', 'кино', 'ария'], ['paul oakenfold', 'tiesto']]\n"
     ]
    }
   ],
   "source": [
    "lists = []\n",
    "rap = ['баста','кравц','злой дух','25-17']\n",
    "rock = ['наутилус','кино','ария']\n",
    "djs = ['paul oakenfold','tiesto']\n",
    "lists.append(rap)\n",
    "lists.append(rock)\n",
    "lists.append(djs)\n",
    "print(lists)\n",
    "\n",
    "rap = lists[0]\n",
    "print(rap)\n",
    "\n",
    "rap.append('наше дело')\n",
    "print(rap)\n",
    "print(lists)"
   ]
  },
  {
   "cell_type": "code",
   "execution_count": 2,
   "metadata": {},
   "outputs": [
    {
     "name": "stdout",
     "output_type": "stream",
     "text": [
      "[(54.196, 37.6182), (55.7522, 37.6155)]\n"
     ]
    }
   ],
   "source": [
    "locations = []\n",
    "tula = (54.1960,37.6182)\n",
    "moscow = (55.7522,37.6155)\n",
    "locations.append(tula)\n",
    "locations.append(moscow)\n",
    "print(locations)"
   ]
  },
  {
   "cell_type": "code",
   "execution_count": 3,
   "metadata": {},
   "outputs": [
    {
     "name": "stdout",
     "output_type": "stream",
     "text": [
      "enter your weight: 125\n",
      "enter your favorite color: green\n",
      "your weight is  125  and my weight is  123\n",
      "your favorite color is  green  and my favorite weight is  navy\n"
     ]
    }
   ],
   "source": [
    "mfm = ['mumiy troll','splin','kino']\n",
    "mlp = [(52.418017, 30.985368),(53.955300, 38.274143)]\n",
    "mpd = {'tall':176,'weight':123,'favorite color':'navy'}\n",
    "\n",
    "a = input('enter your weight: ')\n",
    "b = input('enter your favorite color: ')\n",
    "print('your weight is ',a,' and my weight is ', mpd['weight'])\n",
    "print('your favorite color is ',b,' and my favorite weight is ', mpd['favorite color'])"
   ]
  }
 ],
 "metadata": {
  "kernelspec": {
   "display_name": "Python 3",
   "language": "python",
   "name": "python3"
  },
  "language_info": {
   "codemirror_mode": {
    "name": "ipython",
    "version": 3
   },
   "file_extension": ".py",
   "mimetype": "text/x-python",
   "name": "python",
   "nbconvert_exporter": "python",
   "pygments_lexer": "ipython3",
   "version": "3.7.3"
  }
 },
 "nbformat": 4,
 "nbformat_minor": 2
}
