{
 "cells": [
  {
   "cell_type": "code",
   "execution_count": 9,
   "metadata": {},
   "outputs": [
    {
     "name": "stdout",
     "output_type": "stream",
     "text": [
      "Enter __СУЩЕСТВИТЕЛЬНОЕ ВО МНОЖЕСТВЕННОМ ЧИСЛЕ__дрова\n",
      "Enter __СУЩЕСТВИТЕЛЬНОЕ ВО МНОЖЕСТВЕННОМ ЧИСЛЕ__палки\n",
      "Enter __ЧАСТЬ_ТЕЛА__пятка\n",
      "Enter __ЧИСЛО__8\n",
      "Enter __СУЩЕСТВИТЕЛЬНОЕ ВО МНОЖЕСТВЕННОМ ЧИСЛЕ__шишки\n",
      "Enter __ЧАСТЬ ТЕЛА__рука\n",
      "\n",
      "\n",
      " Жирафы любят таскать различные дрова целый день напролет. Жирафы также славятся тем, что поедают прекрасные палки, но после этого у них часто болит пятка. Если же жирафы находят 8 шишки, у них моментально отваливается рука.\n"
     ]
    }
   ],
   "source": [
    "import re\n",
    "text = \"\"\" Жирафы любят таскать \n",
    "различные __СУЩЕСТВИТЕЛЬНОЕ ВО МНОЖЕСТВЕННОМ ЧИСЛЕ__ \n",
    "целый день напролет. Жирафы \n",
    "также славятся тем, что поедают \n",
    "прекрасные __СУЩЕСТВИТЕЛЬНОЕ ВО МНОЖЕСТВЕННОМ ЧИСЛЕ__, но \n",
    "после этого у них часто \n",
    "болит __ЧАСТЬ_ТЕЛА__. Если же \n",
    "жирафы находят __ЧИСЛО__ \n",
    "__СУЩЕСТВИТЕЛЬНОЕ ВО МНОЖЕСТВЕННОМ ЧИСЛЕ__, у \n",
    "них моментально отваливается __ЧАСТЬ ТЕЛА__.\n",
    "\"\"\"\n",
    "\n",
    "def mad_libs(mls):\n",
    "    \"\"\"\n",
    "    :param mls: В строках \n",
    "    пользовательский ввод\n",
    "    должен быть окружен двойными\n",
    "    подчеркиваниями. подчеркивания\n",
    "    нельзя вставлять в подсказку:\n",
    "    __подсказка_подсказка__ (нельзя);\n",
    "    __подсказка__ (можно).\n",
    "    \"\"\"\n",
    "    hints = re.findall(\"__.*?__\",mls)\n",
    "    \n",
    "    if hints is not None:\n",
    "        for word in hints:\n",
    "            q = \"Enter {}\".format(word)\n",
    "            new = input(q)\n",
    "            mls = mls.replace(word, new, 1)\n",
    "        print('\\n')\n",
    "        mls = mls.replace('\\n',\"\")\n",
    "        print(mls)\n",
    "    else: print(\"mistake of enter\")\n",
    "        \n",
    "mad_libs(text)"
   ]
  }
 ],
 "metadata": {
  "kernelspec": {
   "display_name": "Python 3",
   "language": "python",
   "name": "python3"
  },
  "language_info": {
   "codemirror_mode": {
    "name": "ipython",
    "version": 3
   },
   "file_extension": ".py",
   "mimetype": "text/x-python",
   "name": "python",
   "nbconvert_exporter": "python",
   "pygments_lexer": "ipython3",
   "version": "3.7.3"
  }
 },
 "nbformat": 4,
 "nbformat_minor": 2
}
