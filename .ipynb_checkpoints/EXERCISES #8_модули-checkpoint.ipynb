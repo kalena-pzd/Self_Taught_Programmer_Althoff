{
 "cells": [
  {
   "cell_type": "code",
   "execution_count": 1,
   "metadata": {},
   "outputs": [
    {
     "data": {
      "text/plain": [
       "8.0"
      ]
     },
     "execution_count": 1,
     "metadata": {},
     "output_type": "execute_result"
    }
   ],
   "source": [
    "import math\n",
    "math.pow(2,3) # функция из модуля math возвращает первое значение в степени второго значения"
   ]
  },
  {
   "cell_type": "code",
   "execution_count": 2,
   "metadata": {},
   "outputs": [
    {
     "data": {
      "text/plain": [
       "24"
      ]
     },
     "execution_count": 2,
     "metadata": {},
     "output_type": "execute_result"
    }
   ],
   "source": [
    "import random\n",
    "random.randint(0,100) # функция возвращает случайное число из указанного диапазона"
   ]
  },
  {
   "cell_type": "code",
   "execution_count": 15,
   "metadata": {},
   "outputs": [
    {
     "name": "stdout",
     "output_type": "stream",
     "text": [
      "18.857142857142858\n",
      "12\n",
      "33\n"
     ]
    }
   ],
   "source": [
    "import statistics\n",
    "nums = [1,5,33,12,46,33,2]\n",
    "print(statistics.mean(nums)) # функция подсчитывает среднее значение\n",
    "\n",
    "print(statistics.median(nums)) # медиана случайных чисел делит пополам распределение \n",
    "# -вероятность получить значение случайной величины справа от него равна вероятности получить значение слева от него \n",
    "\n",
    "print(statistics.mode(nums)) # Мо́да — значение во множестве наблюдений, которое встречается наиболее часто. \n",
    "# (Мода = типичность.) Иногда в совокупности встречается более чем одна мода (например: 6, 2, 6, 6, 8, 9, 9, 9, 0; мода — 6 и 9)\n",
    "# В этом случае можно сказать, что совокупность мультимодальна. \n",
    "# Из структурных средних величин только мода обладает таким уникальным свойством. \n",
    "# Как правило, мультимодальность указывает на то, что набор данных не подчиняется нормальному распределению."
   ]
  },
  {
   "cell_type": "code",
   "execution_count": 12,
   "metadata": {},
   "outputs": [
    {
     "name": "stdout",
     "output_type": "stream",
     "text": [
      "Help on function mode in module statistics:\n",
      "\n",
      "mode(data)\n",
      "    Return the most common data point from discrete or nominal data.\n",
      "    \n",
      "    ``mode`` assumes discrete data, and returns a single value. This is the\n",
      "    standard treatment of the mode as commonly taught in schools:\n",
      "    \n",
      "    >>> mode([1, 1, 2, 3, 3, 3, 3, 4])\n",
      "    3\n",
      "    \n",
      "    This also works with nominal (non-numeric) data:\n",
      "    \n",
      "    >>> mode([\"red\", \"blue\", \"blue\", \"red\", \"green\", \"red\", \"red\"])\n",
      "    'red'\n",
      "    \n",
      "    If there is not exactly one most common value, ``mode`` will raise\n",
      "    StatisticsError.\n",
      "\n"
     ]
    }
   ],
   "source": [
    "help(statistics.mode)\n"
   ]
  },
  {
   "cell_type": "code",
   "execution_count": 17,
   "metadata": {},
   "outputs": [
    {
     "name": "stdout",
     "output_type": "stream",
     "text": [
      "True\n",
      "False\n"
     ]
    }
   ],
   "source": [
    "import keyword\n",
    "\n",
    "print(keyword.iskeyword('for')) # модуль позволяет проверить, является ли строка ключевым словом в Python\n",
    "print(keyword.iskeyword('football'))"
   ]
  }
 ],
 "metadata": {
  "kernelspec": {
   "display_name": "Python 3",
   "language": "python",
   "name": "python3"
  },
  "language_info": {
   "codemirror_mode": {
    "name": "ipython",
    "version": 3
   },
   "file_extension": ".py",
   "mimetype": "text/x-python",
   "name": "python",
   "nbconvert_exporter": "python",
   "pygments_lexer": "ipython3",
   "version": "3.7.3"
  }
 },
 "nbformat": 4,
 "nbformat_minor": 2
}
