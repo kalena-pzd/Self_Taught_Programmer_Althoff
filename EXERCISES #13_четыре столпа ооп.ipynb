{
 "cells": [
  {
   "cell_type": "code",
   "execution_count": 7,
   "metadata": {},
   "outputs": [
    {
     "name": "stdout",
     "output_type": "stream",
     "text": [
      "20 на 25\n",
      "20 на 20\n"
     ]
    }
   ],
   "source": [
    "class Shape(): # родительский класс\n",
    "    def __init__(self, w, l):\n",
    "        self.width = w # переменная экземпляра класса\n",
    "        self.len = l # переменная экземпляра класса\n",
    "        \n",
    "    def print_size(self):\n",
    "        print('''{} на {}'''.format(self.width, self.len))\n",
    "\n",
    "my_shape = Shape(20, 25)\n",
    "my_shape.print_size()\n",
    "\n",
    "class Square(Shape): # наследование - наследует методы и переменные от другого класса\n",
    "    pass\n",
    "\n",
    "a_square = Square(20, 20)\n",
    "a_square.print_size()"
   ]
  },
  {
   "cell_type": "code",
   "execution_count": 8,
   "metadata": {},
   "outputs": [
    {
     "name": "stdout",
     "output_type": "stream",
     "text": [
      "400\n"
     ]
    }
   ],
   "source": [
    "class Shape():\n",
    "    def __init__(self, w, l):\n",
    "        self.width = w\n",
    "        self.len = l\n",
    "        \n",
    "    def print_size(self):\n",
    "        print('''{} на {}'''.format(self.width, self.len))\n",
    "\n",
    "        \n",
    "class Square(Shape):\n",
    "    def area(self):\n",
    "        return self.width*self.len\n",
    "    \n",
    "a_square = Square(20, 20)\n",
    "print(a_square.area())"
   ]
  },
  {
   "cell_type": "code",
   "execution_count": 10,
   "metadata": {},
   "outputs": [
    {
     "name": "stdout",
     "output_type": "stream",
     "text": [
      "Я 20 на 20\n",
      "30 на 30\n"
     ]
    }
   ],
   "source": [
    "class Shape():\n",
    "    def __init__(self, w, l):\n",
    "        self.width = w\n",
    "        self.len = l\n",
    "        \n",
    "    def print_size(self):\n",
    "        print('''{} на {}'''.format(self.width, self.len))\n",
    "\n",
    "        \n",
    "class Square(Shape):\n",
    "    def area(self):\n",
    "        return self.width*self.len\n",
    "    \n",
    "    def print_size(self):\n",
    "        print('''Я {} на {}'''.format(self.width, self.len)) # переопределение метода - дочерний класс меняет реализацию\n",
    "        # метода, унаследованного от его родительского класса\n",
    "        \n",
    "    \n",
    "a_square = Square(20, 20)\n",
    "a_square.print_size()\n",
    "\n",
    "a_sq = Shape(30, 30)\n",
    "a_sq.print_size()"
   ]
  },
  {
   "cell_type": "code",
   "execution_count": 12,
   "metadata": {},
   "outputs": [
    {
     "name": "stdout",
     "output_type": "stream",
     "text": [
      "Mick Jagger\n"
     ]
    }
   ],
   "source": [
    "class Dog():\n",
    "    def __init__(self, name, breed, owner):\n",
    "        self.name = name\n",
    "        self.breed = breed\n",
    "        self.owner = owner\n",
    "        \n",
    "        \n",
    "class Person():\n",
    "    def __init__(self, name):\n",
    "        self.name = name\n",
    "        \n",
    "        \n",
    "mick = Person('Mick Jagger')\n",
    "stan = Dog('Stanley', 'Buldog', mick) #  композиция - сохраняет обьект в другом обьекте как переменную\n",
    "\n",
    "print(stan.owner.name)"
   ]
  },
  {
   "cell_type": "code",
   "execution_count": 22,
   "metadata": {},
   "outputs": [
    {
     "name": "stdout",
     "output_type": "stream",
     "text": [
      "периметр прямоугольника равен:  18\n",
      "периметр окружности равен:  62.83185307179586\n"
     ]
    }
   ],
   "source": [
    "''' Создайте классы Rectangle и Square с методом calculate_perimeter, вычисляющим периметр фигур, которые\n",
    "    представляют эти классы. Создайте обьекты Rectangle и Square вызовите в них этот метод\n",
    "'''\n",
    "class Rectangle():\n",
    "    def __init__(self, w, l):\n",
    "        self.width = w\n",
    "        self.len = l\n",
    "        \n",
    "    def calculate_perimeter(self):\n",
    "        return (self.width + self.len)*2\n",
    "    \n",
    "    \n",
    "class Square():                 #  ПЕРЕПУТАЛ КВАДРАТ С КРУГОМ, ВЫСЧИТАЛ ПЕРИМЕТР ОКРУЖНОСТИ\n",
    "    def __init__(self, r):\n",
    "        self.radius = r\n",
    "        \n",
    "    def calculate_perimeter(self):\n",
    "        import math\n",
    "        return self.radius * 2 * math.pi\n",
    "        \n",
    "        \n",
    "    \n",
    "Rectangle = Rectangle(4, 5)\n",
    "print('периметр прямоугольника равен: ', Rectangle.calculate_perimeter())\n",
    "\n",
    "Square = Square(10)\n",
    "print('периметр окружности равен: ', Square.calculate_perimeter())"
   ]
  },
  {
   "cell_type": "code",
   "execution_count": 25,
   "metadata": {},
   "outputs": [
    {
     "data": {
      "text/plain": [
       "(4, 5)"
      ]
     },
     "execution_count": 25,
     "metadata": {},
     "output_type": "execute_result"
    }
   ],
   "source": [
    "'''в классе Square определите метод change_size, позволяющий передавать ему число, которое увеличивает или уменьшает \n",
    "   (если оно отрицательное) каждую сторону обьекта Square на соответствующее значение.\n",
    "'''\n",
    "class Square():\n",
    "    def __init__(self, w, l):\n",
    "        self.weight = w\n",
    "        self.len = l\n",
    "        \n",
    "    def change_size(self, a):\n",
    "            return self.weight + a, self.len + a\n",
    "        \n",
    "    \n",
    "    \n",
    "s = Square(5,6)\n",
    "s.change_size(-1)"
   ]
  },
  {
   "cell_type": "code",
   "execution_count": 30,
   "metadata": {},
   "outputs": [
    {
     "name": "stdout",
     "output_type": "stream",
     "text": [
      "Я - фигура.\n"
     ]
    }
   ],
   "source": [
    "''' Создайте класс Shape. Определите в нем метод what_am_i, который при вызове выводит строку - \"Я -фигура.\"\n",
    "    Измените ваши классы Rectangle и Square из предыдущих заданий для наследования от Square, создайте обьекты \n",
    "    Rectangle и Square и вызовите в них новый метод.\n",
    "'''\n",
    "class Shape():\n",
    "    def what_am_i():\n",
    "        return print(\"Я - фигура.\")\n",
    "    \n",
    "\n",
    "s = Shape.what_am_i()\n",
    "        "
   ]
  },
  {
   "cell_type": "code",
   "execution_count": 31,
   "metadata": {},
   "outputs": [
    {
     "name": "stdout",
     "output_type": "stream",
     "text": [
      "Я - фигура.\n",
      "Я - фигура.\n"
     ]
    }
   ],
   "source": [
    "class Shape():\n",
    "    def what_am_i(self):\n",
    "        print(\"Я - фигура.\")\n",
    "\n",
    "\n",
    "class Rectangle(Shape):\n",
    "    def __init__(self, width, length):\n",
    "        self.width = width\n",
    "        self.length = length\n",
    "\n",
    "    def calculate_perimeter(self):\n",
    "        return self.width * 2 + self.length * 2\n",
    "\n",
    "\n",
    "class Square(Shape):\n",
    "    def __init__(self, s1):\n",
    "        self.s1 = s1\n",
    "\n",
    "    def calculate_perimeter(self):\n",
    "        return self.s1 * 4\n",
    "\n",
    "a_rectangle = Rectangle(20, 50)\n",
    "a_square = Square(29)\n",
    "\n",
    "a_rectangle.what_am_i()\n",
    "a_square.what_am_i()"
   ]
  },
  {
   "cell_type": "code",
   "execution_count": 52,
   "metadata": {},
   "outputs": [
    {
     "name": "stdout",
     "output_type": "stream",
     "text": [
      "лошадь с всадником\n"
     ]
    }
   ],
   "source": [
    "''' Создайте классы Horse и Rider. Используйте композицию, чтобы смоделировать лошадь с всадником на ней\n",
    "'''\n",
    "\n",
    "class Horse():\n",
    "    def __init__(self, horse, rider):\n",
    "        self.horse = horse\n",
    "        self.rider = rider\n",
    "        \n",
    "        \n",
    "class Rider():\n",
    "    def __init__(self, name):\n",
    "        self.name = name \n",
    "        \n",
    "       \n",
    "        \n",
    "s = Rider('с всадником')\n",
    "h = Horse('лошадь', s)\n",
    " \n",
    "\n",
    "print(h.horse, h.rider.name)\n"
   ]
  },
  {
   "cell_type": "code",
   "execution_count": 53,
   "metadata": {},
   "outputs": [
    {
     "name": "stdout",
     "output_type": "stream",
     "text": [
      "Гарри\n"
     ]
    }
   ],
   "source": [
    "class Horse():\n",
    "    def __init__(self, name):\n",
    "        self.name = name\n",
    "\n",
    "\n",
    "class Rider():\n",
    "    def __init__(self, name, horse):\n",
    "        self.name = name\n",
    "        self.horse = horse\n",
    "\n",
    "harry_the_horse = Horse(\"Гарри\")\n",
    "the_rider = Rider(\"Салли\", harry_the_horse)\n",
    "\n",
    "print(the_rider.horse.name)"
   ]
  }
 ],
 "metadata": {
  "kernelspec": {
   "display_name": "Python 3",
   "language": "python",
   "name": "python3"
  },
  "language_info": {
   "codemirror_mode": {
    "name": "ipython",
    "version": 3
   },
   "file_extension": ".py",
   "mimetype": "text/x-python",
   "name": "python",
   "nbconvert_exporter": "python",
   "pygments_lexer": "ipython3",
   "version": "3.7.3"
  }
 },
 "nbformat": 4,
 "nbformat_minor": 2
}
